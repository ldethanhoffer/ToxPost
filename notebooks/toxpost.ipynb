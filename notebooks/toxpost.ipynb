{
 "cells": [
  {
   "cell_type": "code",
   "execution_count": 1,
   "metadata": {},
   "outputs": [],
   "source": [
    "import os\n",
    "os.chdir(\"..\")"
   ]
  },
  {
   "cell_type": "code",
   "execution_count": 2,
   "metadata": {},
   "outputs": [],
   "source": [
    "import src\n",
    "from src.data.make_dataset import load_corpus"
   ]
  },
  {
   "cell_type": "code",
   "execution_count": 3,
   "metadata": {},
   "outputs": [
    {
     "name": "stdout",
     "output_type": "stream",
     "text": [
      "reading document number: 0\n",
      "reading document number: 10000\n",
      "reading document number: 20000\n",
      "reading document number: 30000\n",
      "reading document number: 40000\n",
      "reading document number: 50000\n",
      "reading document number: 60000\n",
      "reading document number: 70000\n",
      "reading document number: 80000\n",
      "reading document number: 90000\n",
      "reading document number: 100000\n",
      "reading document number: 110000\n",
      "reading document number: 120000\n",
      "reading document number: 130000\n",
      "reading document number: 140000\n",
      "reading document number: 150000\n",
      "\n",
      "done reading ./data/raw/train.csv\n"
     ]
    }
   ],
   "source": [
    "raw_training_data = \"./data/raw/train.csv\"\n",
    "\n",
    "corpus, labels, data = load_corpus(raw_training_data, header=True, id=True)"
   ]
  },
  {
   "cell_type": "markdown",
   "metadata": {},
   "source": [
    "just to give an example:"
   ]
  },
  {
   "cell_type": "code",
   "execution_count": 4,
   "metadata": {},
   "outputs": [
    {
     "name": "stdout",
     "output_type": "stream",
     "text": [
      "('FUCK', 'YOUR', 'FILTHY', 'MOTHER', 'IN', 'THE', 'ASS,', 'DRY!') \n",
      " [1 0 1 0 1 0]\n"
     ]
    }
   ],
   "source": [
    "print(corpus[42],\"\\n\", labels[42])"
   ]
  }
 ],
 "metadata": {
  "kernelspec": {
   "display_name": "Python [conda env:machine_learning]",
   "language": "python",
   "name": "conda-env-machine_learning-py"
  },
  "language_info": {
   "codemirror_mode": {
    "name": "ipython",
    "version": 3
   },
   "file_extension": ".py",
   "mimetype": "text/x-python",
   "name": "python",
   "nbconvert_exporter": "python",
   "pygments_lexer": "ipython3",
   "version": "3.6.8"
  }
 },
 "nbformat": 4,
 "nbformat_minor": 2
}
