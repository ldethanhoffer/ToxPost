{
 "cells": [
  {
   "cell_type": "code",
   "execution_count": 4,
   "metadata": {},
   "outputs": [
    {
     "data": {
      "text/plain": [
       "'/Users/Louis/ml_projects/ToxPost'"
      ]
     },
     "execution_count": 4,
     "metadata": {},
     "output_type": "execute_result"
    }
   ],
   "source": [
    "import os\n",
    "os.chdir(\"..\")\n",
    "os.getcwd()"
   ]
  },
  {
   "cell_type": "code",
   "execution_count": 5,
   "metadata": {},
   "outputs": [],
   "source": [
    "import tqdm\n",
    "from src.data.make_dataset import load_corpus\n",
    "from src.features.embed import load_embedding\n",
    "from src.features.preprocess import clean_document, shrink_corpus"
   ]
  },
  {
   "cell_type": "code",
   "execution_count": 6,
   "metadata": {},
   "outputs": [
    {
     "name": "stderr",
     "output_type": "stream",
     "text": [
      "159571it [00:04, 38692.44it/s]\n"
     ]
    },
    {
     "name": "stdout",
     "output_type": "stream",
     "text": [
      "\n",
      "done reading ./data/raw/train.csv\n"
     ]
    }
   ],
   "source": [
    "raw_training_data = \"./data/raw/train.csv\"\n",
    "\n",
    "data = load_corpus(raw_training_data, header=True, id=True)"
   ]
  },
  {
   "cell_type": "code",
   "execution_count": 4,
   "metadata": {},
   "outputs": [],
   "source": [
    "features = [datapoint[0] for datapoint in data]\n",
    "labels = [label[1] for label in data]"
   ]
  },
  {
   "cell_type": "markdown",
   "metadata": {},
   "source": [
    "just to give an example:"
   ]
  },
  {
   "cell_type": "code",
   "execution_count": 5,
   "metadata": {},
   "outputs": [
    {
     "name": "stdout",
     "output_type": "stream",
     "text": [
      "[('I', 'tend', 'to', 'think', 'that', 'when', 'the', 'list', 'is', 'longer', 'than', 'the', 'rest', 'of', 'the', 'article,', \"there's\", 'a', 'problem.', 'Either', 'the', 'history', 'and', 'characteristics', 'should', 'be', 'expanded,', 'of', 'the', 'list', 'should', 'be', 'culled.', 'I', 'personally', 'like', 'the', 'consensus', 'that', 'was', 'reached', 'in', 'the', 'Tripel', 'article', 'between', 'and', 'others...myself', 'included.', 'We', 'decided', 'that', 'the', 'country', 'of', 'origin', 'should', 'be', 'highlighted', 'with', 'the', 'most', 'examples.', 'There', 'we', 'did', 'Trappist,', 'Abbey,', 'and', 'Foreign.', 'Foreign', 'includes', 'all', 'non-Belgium', 'examples.', 'This', 'way', 'the', 'article', 'is', 'an', 'article', 'in', 'an', 'encyclopedia,', 'not', 'a', 'list.', 'People', 'can', 'find', 'lists', 'anywhere,', 'and', 'the', 'article', 'should', 'reference', 'this.', 'Also,', 'the', 'style', 'statistics', 'are', 'bad.', 'When', 'you', 'say', 'style', 'statistics,', 'it', 'sounds', 'like', 'a', 'prescription,', 'not', 'a', 'description.', 'An', 'encyclopedia', 'should', 'follow', 'the', 'latter,', 'and', 'if', 'the', 'former', 'is', 'used,', 'a', 'citation', 'should', 'follow...And', \"you'll\", 'not', 'find', 'a', 'valid', 'one', 'for', 'this', 'style', 'in', \"it's\", 'country', 'of', 'origin.'), array([0, 0, 0, 0, 0, 0])]\n"
     ]
    }
   ],
   "source": [
    "print(data[105])"
   ]
  },
  {
   "cell_type": "code",
   "execution_count": 7,
   "metadata": {},
   "outputs": [
    {
     "name": "stderr",
     "output_type": "stream",
     "text": [
      "100%|██████████| 159570/159570 [02:49<00:00, 944.09it/s] \n"
     ]
    }
   ],
   "source": [
    "cleaned_features = [clean_document(feature) for feature in tqdm.tqdm(features)]"
   ]
  },
  {
   "cell_type": "code",
   "execution_count": 8,
   "metadata": {},
   "outputs": [
    {
     "name": "stderr",
     "output_type": "stream",
     "text": [
      "  0%|          | 120/159570 [00:00<02:13, 1195.18it/s]"
     ]
    },
    {
     "name": "stdout",
     "output_type": "stream",
     "text": [
      "TfIdf scores calculated...\n",
      "\n"
     ]
    },
    {
     "name": "stderr",
     "output_type": "stream",
     "text": [
      "100%|██████████| 159570/159570 [02:13<00:00, 1197.47it/s]\n"
     ]
    }
   ],
   "source": [
    "shrunken_corpus = shrink_corpus(cleaned_features, 100)"
   ]
  },
  {
   "cell_type": "code",
   "execution_count": 1,
   "metadata": {},
   "outputs": [],
   "source": [
    "glove = \"./recourses/glove/glove.twitter.27B.25d.txt\""
   ]
  },
  {
   "cell_type": "code",
   "execution_count": 7,
   "metadata": {},
   "outputs": [
    {
     "name": "stderr",
     "output_type": "stream",
     "text": [
      "1193515it [00:22, 53302.95it/s]\n"
     ]
    },
    {
     "name": "stdout",
     "output_type": "stream",
     "text": [
      "Embedding loaded... \n",
      "\n"
     ]
    }
   ],
   "source": [
    "embedding, embeddable_words = load_embedding(glove)"
   ]
  },
  {
   "cell_type": "code",
   "execution_count": null,
   "metadata": {},
   "outputs": [],
   "source": []
  }
 ],
 "metadata": {
  "kernelspec": {
   "display_name": "Python [conda env:machine_learning]",
   "language": "python",
   "name": "conda-env-machine_learning-py"
  },
  "language_info": {
   "codemirror_mode": {
    "name": "ipython",
    "version": 3
   },
   "file_extension": ".py",
   "mimetype": "text/x-python",
   "name": "python",
   "nbconvert_exporter": "python",
   "pygments_lexer": "ipython3",
   "version": "3.6.8"
  }
 },
 "nbformat": 4,
 "nbformat_minor": 2
}
