{
 "cells": [
  {
   "cell_type": "markdown",
   "metadata": {},
   "source": [
    "## Exploring the ToxPost data\n"
   ]
  },
  {
   "cell_type": "code",
   "execution_count": 1,
   "metadata": {},
   "outputs": [
    {
     "name": "stdout",
     "output_type": "stream",
     "text": [
      "the current working directory is /Users/Louis/ml_projects/ToxPost\n"
     ]
    }
   ],
   "source": [
    "import os\n",
    "os.chdir(\"..\")\n",
    "print(f'the current working directory is {os.getcwd()}')"
   ]
  },
  {
   "cell_type": "code",
   "execution_count": 2,
   "metadata": {},
   "outputs": [],
   "source": [
    "import random\n",
    "from src.load import load_dataframe\n",
    "import matplotlib.pyplot as plt\n",
    "import numpy as np"
   ]
  },
  {
   "cell_type": "code",
   "execution_count": 3,
   "metadata": {},
   "outputs": [],
   "source": [
    "# Import the raw training data:\n",
    "\n",
    "raw_data_path = \"./data/raw/data.csv\"\n",
    "data = load_dataframe(raw_data_path, header=True, id_tag=True)"
   ]
  },
  {
   "cell_type": "code",
   "execution_count": 5,
   "metadata": {},
   "outputs": [
    {
     "data": {
      "text/html": [
       "<div>\n",
       "<style scoped>\n",
       "    .dataframe tbody tr th:only-of-type {\n",
       "        vertical-align: middle;\n",
       "    }\n",
       "\n",
       "    .dataframe tbody tr th {\n",
       "        vertical-align: top;\n",
       "    }\n",
       "\n",
       "    .dataframe thead th {\n",
       "        text-align: right;\n",
       "    }\n",
       "</style>\n",
       "<table border=\"1\" class=\"dataframe\">\n",
       "  <thead>\n",
       "    <tr style=\"text-align: right;\">\n",
       "      <th></th>\n",
       "      <th>toxic</th>\n",
       "      <th>severe_toxic</th>\n",
       "      <th>obscene</th>\n",
       "      <th>threat</th>\n",
       "      <th>insult</th>\n",
       "      <th>identity_hate</th>\n",
       "    </tr>\n",
       "    <tr>\n",
       "      <th>comment_text</th>\n",
       "      <th></th>\n",
       "      <th></th>\n",
       "      <th></th>\n",
       "      <th></th>\n",
       "      <th></th>\n",
       "      <th></th>\n",
       "    </tr>\n",
       "  </thead>\n",
       "  <tbody>\n",
       "    <tr>\n",
       "      <th>Before Attitude Increases due to lack of Blood in Brain \\n\\nWhatever your personal feelings you are nothing more than a communist who want to own your own board and are using illicit tactics.  I have been on the net for over a decade and have seen a lot of attitude, and you need to take your attitude home and understand that in the United States of America your way of life is based upon despots, censorship, and hate.  Moron.  The subject is Heaven and you believe God has no part of Heaven.  Does your friends know what kind of anti-faith atheist you are in  a public message board?  Please tell me you are someone who swore an oath to the Constitution for the United States, since you would believe in your little power plays versus actual faith and truth in the source of the American Way of Life.</th>\n",
       "      <td>0</td>\n",
       "      <td>0</td>\n",
       "      <td>0</td>\n",
       "      <td>0</td>\n",
       "      <td>0</td>\n",
       "      <td>0</td>\n",
       "    </tr>\n",
       "    <tr>\n",
       "      <th>January 15 Seattle meetup \\n\\nJust wanted to let you know we are planning another Seattle meetup on January 15, 2005. We're trying to get a sense of who will attend, so please drop by that page &amp; leave a note.   | Talk 07:05, Dec 23, 2004 (UTC)</th>\n",
       "      <td>0</td>\n",
       "      <td>0</td>\n",
       "      <td>0</td>\n",
       "      <td>0</td>\n",
       "      <td>0</td>\n",
       "      <td>0</td>\n",
       "    </tr>\n",
       "    <tr>\n",
       "      <th>January 2009 \\n\\nCategories</th>\n",
       "      <td>0</td>\n",
       "      <td>0</td>\n",
       "      <td>0</td>\n",
       "      <td>0</td>\n",
       "      <td>0</td>\n",
       "      <td>0</td>\n",
       "    </tr>\n",
       "    <tr>\n",
       "      <th>Millennium Shakespeare \\n\\nCould you please take a look at Millennium Shakespeare? In its current state, it is probably eligible for deletion as blatant advertising, but perhaps it could be salvaged. I can't find references for it, but I may be looking in the wrong places.</th>\n",
       "      <td>0</td>\n",
       "      <td>0</td>\n",
       "      <td>0</td>\n",
       "      <td>0</td>\n",
       "      <td>0</td>\n",
       "      <td>0</td>\n",
       "    </tr>\n",
       "    <tr>\n",
       "      <th>\"\\n\\n Roman era/Byzantine/Greek colonies/ Illyrian Albanian/edit wars/Epir plz read all my message \\n\\nIn the dark and solemn days of the wondrous lands, which would later be called the Balkans, there existed two people. \\nOne, that would later be known as the Greek people, and the other, the men that would form the nation of Albania. For centuries these two cultures would have many periods of cultural exchange and of cultural strife.\\n\\nMost of scholars and philologists alike contend that the modern Albanian language to be descended from Illyrian.(check the atlas of world in Barnes Noble,see where they put the Albanian languange)\\n\\nThe Illyrian name is understood in the Albanian interpretation of the Illyrians, \"\"Ilirët.\"\"\\n\\nThe root in \"\"Ilirët\"\" is \"\"i lir\"\" which simply means, \"\"FREE.\"\" Thus, the meaning of \"\"Ilirët\"\" is \"\"freemen\"\" and the meaning of Illyria (long before America came into existence) is \"\"land of the free.\"\" \\n\\nThe first references,that of 1285 cf.Jirecek 1901,1904,Ajeti 1977,1982,occurs not in Albania itself but in Dubrovnik(Ragusa) where a sizeable Albaniancommunity had existed for some time.In the investigation of a robbery in the house of Petro del Volcio of Belena(now Prati),a certain Matthew,son of Mark of Mançe, who appears to have been witness to the crime states:\\n\"\"Audivi unam vocem clamantem in monte in lingua Albanesca\"\" \"\" I heara a voice crying in the mountains in the Albanian languange\"\"\\nand I sure those who study Albanian history have 4 more importan references.(they should know that)\\n\\nWhat is the significance of these references? First and foremost, it is apparent that in the period 1285 to 1322 the Albanian languange was well-established on the southeastern Adriatic coast.\\n\\nThe dating of these refernces,should not however be taken as an indication that Albanian or early forms of it were not spoken in the preceding centuries.If the Albanians,tells us were rural nomads,warlike inhabitants,and if their settlements were more concentrated in the highlands than on the coast,it is quite likely that they were not taken note of, even though they may have costituted at substantial population group. \\n\\nMost historians of the Balkans believe the Albanian people are in large part descendants of the ancient Illyrians, who, like other Balkan peoples, were subdivided into tribes and clans. The name Albania is derived from the name of an Illyrian tribe called the Arbër, or Arbëresh, and later Albanoi, that lived near Durrës.Only Albanians preserve the Illyrian names ex; me my name is Taulant-Taulantët illyrians tribes, Genti,Bardhyl,Dori,Boiken,Bato etc etc so the question is How come Albanians are the only one to preserve this names and languange? and NO its not communist propaganda, my greatgrandfather's name was Bardhyl and his dads was Agroni.\\n\\nThe most known Illyrian sign is the snake or dragons rolled or twisted, that Illyrians used in their shields &amp; in their art.Dragons and snakes were worshiped by Illyrians, they still continue to exist until this day in Albanian mythology...\\n\\nGreek roots with Illyrian its a stupid argument,mixing oil with water,I never heard that Greeks claiming Illyrians.One point its true, some did mix with Greeks, I am sure not everyone was isolated on southern Illyria from the Albanian hardesh geography or imigrated towards Italy.\\nGreeks have their old history and I don't think they need Illyrians to prove that.\\nI was the one who started the Greek colonies because they show that we all have a worked together but never thought that it will end up like this, with maps to be used for nationalistic ideas,to claim lands.Epir it was and is to the Albanians,Greeks,Albanian-Greeks,Greeks-Albanian people. We need to show some respect,from those mountaints of north west of Greece (south of Albania) Pyrros, Bubullima,Boçari etc called home.\\n\\nI don't like nationalist of any kind, its 2008 people,there is thousand of books about Albanians,wake up, but to delete critical points that linked Albanians with Illyrians its wrong,shame on u people, it makes Wikipedia looks bad and it shows that some people still leave in the past.\\nAll these Roman/Byzantine/Greekcolonies articles need to be on one article,they are too long.I would suggest  to help in here,I really do think he is the only (Greek) Wikipedian that can really help and has an open mind.\\n\\nWe know that the shadow of the ancient Greece was too strong/too close for the Illyrian Albanian civilization, but at least try to understand that not everyone who dresses Levis, listens to hip-hop or writes grafitti in English ... is an American........ \"</th>\n",
       "      <td>0</td>\n",
       "      <td>0</td>\n",
       "      <td>0</td>\n",
       "      <td>0</td>\n",
       "      <td>0</td>\n",
       "      <td>0</td>\n",
       "    </tr>\n",
       "    <tr>\n",
       "      <th>Removed persons \\nCould somebody please explain me the reason of removing such players like Mason Jones, Georges Barboteu, Vitaly Buyanovsky, Louis-François Dauprat, Erich Penzel, Hans Pizka, Michael Holtzel, Anton Horner, Wendell Hoss and some others from the list? I suppose all of them are worth to be considered notable.</th>\n",
       "      <td>0</td>\n",
       "      <td>0</td>\n",
       "      <td>0</td>\n",
       "      <td>0</td>\n",
       "      <td>0</td>\n",
       "      <td>0</td>\n",
       "    </tr>\n",
       "    <tr>\n",
       "      <th>\"\\n\\n If neither the French, Americans or Germans can pronounce his surname – especially the \"\"G\"\" – in a correct way, I think Dr. Van Gennep definitely should be considered as a Dutchman. -D   \"</th>\n",
       "      <td>0</td>\n",
       "      <td>0</td>\n",
       "      <td>0</td>\n",
       "      <td>0</td>\n",
       "      <td>0</td>\n",
       "      <td>0</td>\n",
       "    </tr>\n",
       "    <tr>\n",
       "      <th>, 4 January 2006 (UTC)\\n\\nIn effect that would be no different than a banning a block of IP addresses, though, wouldn't it? The point of avoiding banning a block of IPs is to avoid blocking innocent users, but individually blocked IPs can as easily be assigned to innocent users as to the vandals we intend to block.  —  | ☎ 01:12</th>\n",
       "      <td>0</td>\n",
       "      <td>0</td>\n",
       "      <td>0</td>\n",
       "      <td>0</td>\n",
       "      <td>0</td>\n",
       "      <td>0</td>\n",
       "    </tr>\n",
       "    <tr>\n",
       "      <th>Please do, suck my cock.</th>\n",
       "      <td>1</td>\n",
       "      <td>0</td>\n",
       "      <td>1</td>\n",
       "      <td>0</td>\n",
       "      <td>0</td>\n",
       "      <td>0</td>\n",
       "    </tr>\n",
       "    <tr>\n",
       "      <th>\"\\nHi Mornirnaeth, and Welcome to Wikipedia!  \\nWelcome to Wikipedia! I hope you enjoy the encyclopedia and want to stay. As a first step, you may wish to read the Introduction.\\n\\nIf you have any questions, feel free to ask me at my talk page — I'm happy to help. Or, you can ask your question at the New contributors' help page.\\n\\n  \\nHere are some more resources to help you as you explore and contribute to the world's largest encyclopedia...\\n\\n Finding your way around: \\n\\n Table of Contents\\n\\n Department directory\\n\\n Need help? \\n\\n Questions — a guide on where to ask questions.\\n Cheatsheet — quick reference on Wikipedia's mark-up codes.\\n\\n Wikipedia's 5 pillars — an overview of Wikipedia's foundations\\n The Simplified Ruleset — a summary of Wikipedia's most important rules.\\n\\n How you can help: \\n\\n Contributing to Wikipedia — a guide on how you can help.\\n\\n Community Portal — Wikipedia's hub of activity.\\n\\n Additional tips...  \\n\\n Please sign your messages on talk pages with four tildes (~~~~). This will automatically insert your \"\"signature\"\" (your username and a date stamp). The  button, on the tool bar above Wikipedia's text editing window, also does this. \\n\\n If you would like to play around with your new Wiki skills the Sandbox is for you. \\n If you'd like to tell us about yourself and meet other new users, be sure to introduce yourself at our new user log.  \\n\\n Good luck, and have fun. \"</th>\n",
       "      <td>0</td>\n",
       "      <td>0</td>\n",
       "      <td>0</td>\n",
       "      <td>0</td>\n",
       "      <td>0</td>\n",
       "      <td>0</td>\n",
       "    </tr>\n",
       "  </tbody>\n",
       "</table>\n",
       "</div>"
      ],
      "text/plain": [
       "                                                    toxic  severe_toxic  \\\n",
       "comment_text                                                              \n",
       "Before Attitude Increases due to lack of Blood ...      0             0   \n",
       "January 15 Seattle meetup \\n\\nJust wanted to le...      0             0   \n",
       "January 2009 \\n\\nCategories                             0             0   \n",
       "Millennium Shakespeare \\n\\nCould you please tak...      0             0   \n",
       "\"\\n\\n Roman era/Byzantine/Greek colonies/ Illyr...      0             0   \n",
       "Removed persons \\nCould somebody please explain...      0             0   \n",
       "\"\\n\\n If neither the French, Americans or Germa...      0             0   \n",
       ", 4 January 2006 (UTC)\\n\\nIn effect that would ...      0             0   \n",
       "Please do, suck my cock.                                1             0   \n",
       "\"\\nHi Mornirnaeth, and Welcome to Wikipedia!  \\...      0             0   \n",
       "\n",
       "                                                    obscene  threat  insult  \\\n",
       "comment_text                                                                  \n",
       "Before Attitude Increases due to lack of Blood ...        0       0       0   \n",
       "January 15 Seattle meetup \\n\\nJust wanted to le...        0       0       0   \n",
       "January 2009 \\n\\nCategories                               0       0       0   \n",
       "Millennium Shakespeare \\n\\nCould you please tak...        0       0       0   \n",
       "\"\\n\\n Roman era/Byzantine/Greek colonies/ Illyr...        0       0       0   \n",
       "Removed persons \\nCould somebody please explain...        0       0       0   \n",
       "\"\\n\\n If neither the French, Americans or Germa...        0       0       0   \n",
       ", 4 January 2006 (UTC)\\n\\nIn effect that would ...        0       0       0   \n",
       "Please do, suck my cock.                                  1       0       0   \n",
       "\"\\nHi Mornirnaeth, and Welcome to Wikipedia!  \\...        0       0       0   \n",
       "\n",
       "                                                    identity_hate  \n",
       "comment_text                                                       \n",
       "Before Attitude Increases due to lack of Blood ...              0  \n",
       "January 15 Seattle meetup \\n\\nJust wanted to le...              0  \n",
       "January 2009 \\n\\nCategories                                     0  \n",
       "Millennium Shakespeare \\n\\nCould you please tak...              0  \n",
       "\"\\n\\n Roman era/Byzantine/Greek colonies/ Illyr...              0  \n",
       "Removed persons \\nCould somebody please explain...              0  \n",
       "\"\\n\\n If neither the French, Americans or Germa...              0  \n",
       ", 4 January 2006 (UTC)\\n\\nIn effect that would ...              0  \n",
       "Please do, suck my cock.                                        0  \n",
       "\"\\nHi Mornirnaeth, and Welcome to Wikipedia!  \\...              0  "
      ]
     },
     "execution_count": 5,
     "metadata": {},
     "output_type": "execute_result"
    }
   ],
   "source": [
    "data.sample(n=10)"
   ]
  },
  {
   "cell_type": "code",
   "execution_count": 14,
   "metadata": {},
   "outputs": [
    {
     "name": "stdout",
     "output_type": "stream",
     "text": [
      "the percentage of nonzero comments is 0.10167887648758234\n",
      "\n",
      "the labels are distributed as follows:\n"
     ]
    },
    {
     "data": {
      "image/png": "[encoded data removed]",
      "text/plain": [
       "<Figure size 432x288 with 1 Axes>"
      ]
     },
     "metadata": {
      "needs_background": "light"
     },
     "output_type": "display_data"
    }
   ],
   "source": [
    "nonzero_data = len(data.loc[data.sum(axis=1) != 0])/len(data)\n",
    "print(f\"the percentage of nonzero comments is {nonzero_data}\\n\")\n",
    "print(\"the labels are distributed as follows:\")\n",
    "(data.sum(axis=0)/len(data)).plot.bar(color='#607c8e')\n",
    "plt.title('label distribution')\n",
    "plt.grid(axis='y', alpha=0.75)"
   ]
  }
 ],
 "metadata": {
  "kernelspec": {
   "display_name": "Python [conda env:machine_learning]",
   "language": "python",
   "name": "conda-env-machine_learning-py"
  },
  "language_info": {
   "codemirror_mode": {
    "name": "ipython",
    "version": 3
   },
   "file_extension": ".py",
   "mimetype": "text/x-python",
   "name": "python",
   "nbconvert_exporter": "python",
   "pygments_lexer": "ipython3",
   "version": "3.6.8"
  }
 },
 "nbformat": 4,
 "nbformat_minor": 2
}
