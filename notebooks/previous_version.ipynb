{
 "cells": [
  {
   "cell_type": "markdown",
   "metadata": {},
   "source": [
    "# Detection of Toxic Comments"
   ]
  },
  {
   "cell_type": "markdown",
   "metadata": {},
   "source": [
    "This project aims to describe the toxicity of a comment posted on an online forum.\n",
    "\n",
    "We will break down the concept of toxicity into 6 different __categories__:<br><br>\n",
    "\n",
    "<center>\n",
    "toxicity, severe toxicity, obscanity, threat, insult and identity hate\n",
    "</center>\n",
    "<br><br>\n",
    "\n",
    "To achieve this, we'll design and train a neural net on a dataset of YouTube comments retreived from a [Kaggle competition](https://www.kaggle.com/c/jigsaw-toxic-comment-classification-challenge/data).  \n",
    "This dataset will consist of a __corpus__ of  __comments__ together with their associated __labels__ which in turn consist of 6 binary  __categories__\n",
    "\n",
    "We'll begin by _cleaning up_ the comments:  \n",
    "Since a lot of the words in each comments are irrelevant for the purposes of detecting toxicity: stopwords, hyperlinks, spelling mistakes, characters, etc.. It makes sense to remove those from the comments\n",
    "\n",
    "Next, we'll reduce the data\n",
    "\n",
    "First, we will analyze the distribution of comment lengths \n",
    "\n",
    "We will analyze the distribution of labels. it will be clear that the data is skewed in the sense that the overwhelming majority of comments exhibit no toxicity, to remedy this we will shrink the dataset\n",
    "\n",
    "\n",
    "Next, we will preprocess the data\n",
    "\n",
    "After that, we will fit both a feedforward neural net as well as an LSTM\n",
    "\n",
    "In order to fit a neural net on the corpus, we will embed each word into a vector space using the [Glove embedding](https://nlp.stanford.edu/projects/glove/) "
   ]
  },
  {
   "cell_type": "markdown",
   "metadata": {},
   "source": [
    "## Import the necessary functionalities"
   ]
  },
  {
   "cell_type": "code",
   "execution_count": 16,
   "metadata": {},
   "outputs": [
    {
     "ename": "ModuleNotFoundError",
     "evalue": "No module named 'keras'",
     "output_type": "error",
     "traceback": [
      "\u001b[0;31m---------------------------------------------------------------------------\u001b[0m",
      "\u001b[0;31mModuleNotFoundError\u001b[0m                       Traceback (most recent call last)",
      "\u001b[0;32m<ipython-input-16-39b63a7adb57>\u001b[0m in \u001b[0;36m<module>\u001b[0;34m\u001b[0m\n\u001b[1;32m     16\u001b[0m \u001b[0;32mfrom\u001b[0m \u001b[0msklearn\u001b[0m\u001b[0;34m.\u001b[0m\u001b[0mmodel_selection\u001b[0m \u001b[0;32mimport\u001b[0m \u001b[0mStratifiedKFold\u001b[0m\u001b[0;34m,\u001b[0m \u001b[0mKFold\u001b[0m\u001b[0;34m,\u001b[0m \u001b[0mtrain_test_split\u001b[0m\u001b[0;34m\u001b[0m\u001b[0;34m\u001b[0m\u001b[0m\n\u001b[1;32m     17\u001b[0m \u001b[0;32mfrom\u001b[0m \u001b[0msklearn\u001b[0m\u001b[0;34m.\u001b[0m\u001b[0mdecomposition\u001b[0m \u001b[0;32mimport\u001b[0m \u001b[0mPCA\u001b[0m\u001b[0;34m\u001b[0m\u001b[0;34m\u001b[0m\u001b[0m\n\u001b[0;32m---> 18\u001b[0;31m \u001b[0;32mfrom\u001b[0m \u001b[0mkeras\u001b[0m\u001b[0;34m.\u001b[0m\u001b[0mmodels\u001b[0m \u001b[0;32mimport\u001b[0m \u001b[0mSequential\u001b[0m\u001b[0;34m,\u001b[0m \u001b[0mModel\u001b[0m\u001b[0;34m\u001b[0m\u001b[0;34m\u001b[0m\u001b[0m\n\u001b[0m\u001b[1;32m     19\u001b[0m \u001b[0;32mfrom\u001b[0m \u001b[0mkeras\u001b[0m\u001b[0;34m.\u001b[0m\u001b[0mlayers\u001b[0m \u001b[0;32mimport\u001b[0m \u001b[0mDense\u001b[0m\u001b[0;34m,\u001b[0m \u001b[0mFlatten\u001b[0m\u001b[0;34m,\u001b[0m \u001b[0mmerge\u001b[0m\u001b[0;34m,\u001b[0m \u001b[0mDot\u001b[0m\u001b[0;34m,\u001b[0m \u001b[0mRepeatVector\u001b[0m\u001b[0;34m,\u001b[0m \u001b[0mConcatenate\u001b[0m\u001b[0;34m,\u001b[0m \u001b[0mInput\u001b[0m\u001b[0;34m,\u001b[0m \u001b[0mDropout\u001b[0m\u001b[0;34m,\u001b[0m \u001b[0mLSTM\u001b[0m\u001b[0;34m,\u001b[0m \u001b[0mGRU\u001b[0m\u001b[0;34m,\u001b[0m \u001b[0mActivation\u001b[0m\u001b[0;34m,\u001b[0m\u001b[0mGlobalMaxPool1D\u001b[0m\u001b[0;34m,\u001b[0m\u001b[0mBidirectional\u001b[0m\u001b[0;34m\u001b[0m\u001b[0;34m\u001b[0m\u001b[0m\n\u001b[1;32m     20\u001b[0m \u001b[0;32mfrom\u001b[0m \u001b[0mkeras\u001b[0m\u001b[0;34m.\u001b[0m\u001b[0mlayers\u001b[0m\u001b[0;34m.\u001b[0m\u001b[0membeddings\u001b[0m \u001b[0;32mimport\u001b[0m \u001b[0mEmbedding\u001b[0m\u001b[0;34m\u001b[0m\u001b[0;34m\u001b[0m\u001b[0m\n",
      "\u001b[0;31mModuleNotFoundError\u001b[0m: No module named 'keras'"
     ]
    }
   ],
   "source": [
    "import csv\n",
    "import time\n",
    "from random import sample\n",
    "from datetime import datetime\n",
    "import string\n",
    "import pandas as pd\n",
    "import numpy as np\n",
    "import itertools\n",
    "from scipy.sparse import csr_matrix\n",
    "import nltk, re\n",
    "from nltk.corpus import stopwords\n",
    "from nltk.stem import SnowballStemmer\n",
    "from nltk import word_tokenize\n",
    "from nltk.corpus import words\n",
    "import tqdm\n",
    "from sklearn.model_selection import StratifiedKFold, KFold, train_test_split\n",
    "from sklearn.decomposition import PCA\n",
    "from keras.models import Sequential, Model\n",
    "from keras.layers import Dense, Flatten, merge, Dot, RepeatVector, Concatenate, Input, Dropout, LSTM, GRU, Activation,GlobalMaxPool1D,Bidirectional\n",
    "from keras.layers.embeddings import Embedding\n",
    "from keras.wrappers.scikit_learn import KerasRegressor\n",
    "from sklearn.model_selection import cross_val_score\n",
    "from sklearn.feature_extraction.text import TfidfVectorizer\n",
    "import matplotlib.pyplot as plt\n",
    "\n",
    "nltk.download('stopwords')\n",
    "nltk.download('punkt')\n",
    "nltk.download('words')\n",
    "cache_english_stopwords= stopwords.words('english')"
   ]
  },
  {
   "cell_type": "markdown",
   "metadata": {},
   "source": [
    "## Declare the necessary global variables:"
   ]
  },
  {
   "cell_type": "code",
   "execution_count": 10,
   "metadata": {},
   "outputs": [],
   "source": [
    "# Name each category of toxicity:\n",
    "categories = ['toxicity', 'severe toxicity', 'obsanity', 'threat', 'insult',  'identity hate']\n",
    "num_categories = len(categories)\n",
    "\n",
    "\n",
    "# Declare a custom list of words we'll replace as we clean up each comment:\n",
    "replacement_list = [\n",
    "    ('f u c k', 'fuck'),\n",
    "    ('f uck', 'fuck'),\n",
    "    ('fuckyou', 'fuck you'),\n",
    "    ('fuckmother', 'fuck mother'),\n",
    "    ('WTF', 'what the fuck'),\n",
    "    ('OMFG', 'oh my fucking god'),\n",
    "    ('RTFM', 'read the fucking manual'),\n",
    "    ('ASAFP', 'as soon as fucking possible'),\n",
    "    ('FYVM',  'fuck you very much'),\n",
    "    ('whatever TF', 'whatever the fuck'),\n",
    "    ('G AY', 'GAY'),\n",
    "    \n",
    "\n",
    "    # the following characters need to be removed by hand:\n",
    "    ('•',''),\n",
    "    ('·','')\n",
    "    ]\n",
    "\n",
    "# Declare the dimension of the space we will embed each word into:\n",
    "dimension = 22\n",
    "\n",
    "#Declare the scalar function according to which we'll remove outliers:\n",
    "prop = len\n",
    "\n",
    "# Declare the maximal length of each comment:\n",
    "max_comment_length = 100\n",
    "\n",
    "# Declare the percentage of zero comments we'll include in the corpus:\n",
    "percentage = 0.4\n",
    "\n"
   ]
  },
  {
   "cell_type": "markdown",
   "metadata": {},
   "source": [
    "## Load the dataset and the GloVe embedding:"
   ]
  },
  {
   "cell_type": "markdown",
   "metadata": {},
   "source": [
    "We begin by loading the dataset. The function below takes in a set of YouTube comments and returns the:  \n",
    "    1. corpus: a list of comments, each of which is an array of words\n",
    "    2. labels: the associated list of labels"
   ]
  },
  {
   "cell_type": "code",
   "execution_count": 11,
   "metadata": {},
   "outputs": [],
   "source": [
    "def load_corpus(filename = ''):\n",
    "    \n",
    "    corpus = []\n",
    "    labels = []\n",
    "\n",
    "\n",
    "    with open (filename) as csvDataFile:\n",
    "        csvReader = csv.reader(csvDataFile)\n",
    "\n",
    "        header = True\n",
    "        progress = 0\n",
    "        \n",
    "        for row in csvReader:\n",
    "            \n",
    "            # skip over the header if necessary :\n",
    "            if header:\n",
    "                header = False\n",
    "                continue\n",
    "            \n",
    "            #check the progress:\n",
    "            if progress % 10000 == 0:\n",
    "                print(\"Reading comment number:\", progress)\n",
    "            #read the comment (remembering that the first column of the dataset is a useless id tag):\n",
    "            comment = row[1].split()\n",
    "            # add the comment to the corpus\n",
    "            comment = tuple(comment)\n",
    "            corpus.append(comment)          \n",
    " \n",
    "            # read the labels:\n",
    "            categories = []\n",
    "            for i in range(2,2+num_categories):\n",
    "                categories.append(row[i])\n",
    "                \n",
    "            #add the labels into a list:\n",
    "            labels.append(categories)\n",
    "\n",
    "            \n",
    "            #increase the progress counter:\n",
    "            progress = progress+1\n",
    "         \n",
    "        # turn categories from stings to integers\n",
    "        labels = np.asarray(labels, dtype=int)\n",
    "       \n",
    "            \n",
    "    print(\"\\n done reading\", filename, \"\\n\")\n",
    "    \n",
    "    return corpus, labels"
   ]
  },
  {
   "cell_type": "markdown",
   "metadata": {},
   "source": [
    "Next, we load the [Glove embedding](https://nlp.stanford.edu/projects/glove/) , which maps a word to a vector in $\\mathbb{R}^{25}$"
   ]
  },
  {
   "cell_type": "code",
   "execution_count": 12,
   "metadata": {},
   "outputs": [],
   "source": [
    "def load_embedding(glove_file):\n",
    "    with open(glove_file, 'r') as f:\n",
    "        words = set()\n",
    "        word_to_vec_map = {}\n",
    "        for line in f:\n",
    "            line = line.strip().split()\n",
    "            curr_word = line[0]\n",
    "            words.add(curr_word)\n",
    "            word_to_vec_map[curr_word] = np.array(line[1:], dtype=np.float64)\n",
    "        \n",
    "        i = 1\n",
    "        words_to_index = {}\n",
    "        index_to_words = {}\n",
    "        for w in sorted(words):\n",
    "            words_to_index[w] = i\n",
    "            index_to_words[i] = w\n",
    "            i = i + 1\n",
    "        print('Embedding loaded... \\n')\n",
    "    return  word_to_vec_map"
   ]
  },
  {
   "cell_type": "code",
   "execution_count": 13,
   "metadata": {
    "scrolled": true
   },
   "outputs": [
    {
     "name": "stdout",
     "output_type": "stream",
     "text": [
      "Reading comment number: 0\n",
      "Reading comment number: 10000\n",
      "Reading comment number: 20000\n",
      "Reading comment number: 30000\n",
      "Reading comment number: 40000\n",
      "Reading comment number: 50000\n",
      "Reading comment number: 60000\n",
      "Reading comment number: 70000\n",
      "Reading comment number: 80000\n",
      "Reading comment number: 90000\n",
      "Reading comment number: 100000\n",
      "Reading comment number: 110000\n",
      "Reading comment number: 120000\n",
      "Reading comment number: 130000\n",
      "Reading comment number: 140000\n",
      "Reading comment number: 150000\n",
      "\n",
      " done reading ./data/train_2.csv \n",
      "\n"
     ]
    }
   ],
   "source": [
    "corpus, labels = load_corpus('./data/train_2.csv')\n",
    "\n",
    "\n",
    "data = dict(zip(corpus, labels))\n",
    "\n",
    "\n"
   ]
  },
  {
   "cell_type": "code",
   "execution_count": 15,
   "metadata": {},
   "outputs": [
    {
     "name": "stdout",
     "output_type": "stream",
     "text": [
      "Embedding loaded... \n",
      "\n"
     ]
    }
   ],
   "source": [
    "# we load the GloVe embedding:\n",
    "embedding = load_embedding('./glove/glove.twitter.27B.25d.txt')\n",
    "\n",
    "#and finally, we define the words that will be admissible (ie the vocabulary of the GloVe embedding):\n",
    "admissible_words = embedding.keys()"
   ]
  },
  {
   "cell_type": "markdown",
   "metadata": {},
   "source": [
    "## Declare some helper functions"
   ]
  },
  {
   "cell_type": "code",
   "execution_count": 16,
   "metadata": {},
   "outputs": [],
   "source": [
    "# The function below takes in the corpus of comments as a list and returns\n",
    "# the vocabulary consisting of all words \n",
    "\n",
    "def get_vocab(corpus):\n",
    "    \n",
    "    vocab = []\n",
    "    \n",
    "    # gather the words in each individual comment\n",
    "    for comment in corpus:\n",
    "        for word in comment:\n",
    "            vocab.append(word)\n",
    "    \n",
    "    # Remove duplicates, the empty word and non-admissible words (if applicable):\n",
    "    vocab = [ word for word in set(vocab) if word != '']\n",
    "    return vocab\n"
   ]
  },
  {
   "cell_type": "code",
   "execution_count": 17,
   "metadata": {},
   "outputs": [
    {
     "name": "stdout",
     "output_type": "stream",
     "text": [
      "the corpus consists of 532227 words\n"
     ]
    }
   ],
   "source": [
    "print('the corpus consists of', len(get_vocab(corpus)), 'words' )"
   ]
  },
  {
   "cell_type": "code",
   "execution_count": 18,
   "metadata": {},
   "outputs": [],
   "source": [
    "##the function below transforms each comment in the corpus (given as an array of words) into one single string\n",
    "## This will be necessary to use certain modules such as TfIdf\n",
    "\n",
    "def corpus_as_strings(corpus):\n",
    "    corpus_as_str =[]\n",
    "    for comment in corpus:\n",
    "        corpus_as_str.append(\" \".join(comment))\n",
    "    return corpus_as_str"
   ]
  },
  {
   "cell_type": "markdown",
   "metadata": {},
   "source": [
    "# Cleaning up each comment in the corpus:"
   ]
  },
  {
   "cell_type": "code",
   "execution_count": 19,
   "metadata": {},
   "outputs": [],
   "source": [
    "# The functions below cleans up each comment in the corpus.\n",
    "def clean_comment(comment, admissible_words = None):\n",
    "\n",
    "    #The functions below replaces a word according to the custom replacement list defined above:\n",
    "    def replace(word, replacement_list):\n",
    "        for a,b in replacement_list:\n",
    "            word = word.replace(a,b)\n",
    "        return word\n",
    "\n",
    "    #we begin by defining a function that cleans up each indiviual word:\n",
    "    def clean_word(word, admissible_words = None):\n",
    "\n",
    "        clean_word = word\n",
    "    \n",
    "\n",
    "        #remove hyperlinks\n",
    "        clean_word = re.sub(r'https?:\\/\\/.*\\/\\w*','',clean_word)\n",
    "\n",
    "        # Remove hashtags:\n",
    "        clean_word = re.sub(r'#', '', clean_word)\n",
    "\n",
    "        #Remove numbers:\n",
    "        clean_word = re.sub(r'$\\d+\\W+|\\b\\d+\\b|\\W+\\d+$','', clean_word)\n",
    "        \n",
    "        # Remove apostrophes:\n",
    "        clean_word = re.sub(r\"’\", \"\", clean_word)\n",
    "        \n",
    "        \n",
    "        #Remove Punctuation and split 's, 't, 've with a space for filter:\n",
    "        clean_word=re.sub(r'['+string.punctuation+']+',\"\", clean_word)\n",
    "\n",
    "        \n",
    "        # Remove if 2 or fewer letters:\n",
    "        clean_word = re.sub(r'^\\w\\w?$', '', clean_word) \n",
    "\n",
    "        # remove if an article:\n",
    "        clean_word = re.sub('(\\s+)(a|an|and|the)(\\s+)', ' ',clean_word)\n",
    "\n",
    "        # replace words according to the custom list of replacements defined above:\n",
    "        clean_word = replace(clean_word,replacement_list) \n",
    "        \n",
    "        #lowercase the word:\n",
    "        clean_word = clean_word.lower()\n",
    "        \n",
    "        # Remove if stopword:\n",
    "        if clean_word in cache_english_stopwords:\n",
    "            clean_word = ''\n",
    "\n",
    "        \n",
    "        #Remove any words that are not admissible\n",
    "        if admissible_words != None and clean_word not in admissible_words:\n",
    "           clean_word = ''\n",
    "\n",
    "        return clean_word   \n",
    "\n",
    "    #clean each word:\n",
    "    cleaned_comment = [clean_word(word, admissible_words) for word in comment]\n",
    "\n",
    "    #remove empty strings\n",
    "    cleaned_comment = [word for word in cleaned_comment if word !='']\n",
    "    \n",
    "    #transform into a tuple:\n",
    "    cleaned_comment = tuple(cleaned_comment)\n",
    "    \n",
    "    return cleaned_comment"
   ]
  },
  {
   "cell_type": "code",
   "execution_count": 20,
   "metadata": {},
   "outputs": [
    {
     "name": "stderr",
     "output_type": "stream",
     "text": [
      "100%|██████████| 159568/159568 [04:04<00:00, 652.63it/s]\n"
     ]
    }
   ],
   "source": [
    "cleaned_corpus_dict = {comment: clean_comment(comment, admissible_words) for comment in tqdm.tqdm(corpus)}"
   ]
  },
  {
   "cell_type": "code",
   "execution_count": 21,
   "metadata": {},
   "outputs": [],
   "source": [
    "cleaned_corpus = [cleaned_corpus_dict[comment] for comment in corpus]"
   ]
  },
  {
   "cell_type": "code",
   "execution_count": 22,
   "metadata": {},
   "outputs": [
    {
     "name": "stdout",
     "output_type": "stream",
     "text": [
      "the cleaned corpus consists of 80413 words\n"
     ]
    }
   ],
   "source": [
    "print('the cleaned corpus consists of', len(get_vocab(cleaned_corpus)), 'words')"
   ]
  },
  {
   "cell_type": "markdown",
   "metadata": {},
   "source": [
    "we illustrate how the cleaning process works on 10 random comments:"
   ]
  },
  {
   "cell_type": "code",
   "execution_count": 23,
   "metadata": {
    "collapsed": true
   },
   "outputs": [],
   "source": [
    "random_comment_selection = [corpus[index] for index in np.random.choice(len(data),10)]"
   ]
  },
  {
   "cell_type": "code",
   "execution_count": 24,
   "metadata": {},
   "outputs": [
    {
     "name": "stdout",
     "output_type": "stream",
     "text": [
      "the comment:\n",
      "\n",
      "  \" The prohibition is for \"\"all anonymous IP editors and accounts with less 500 edits and 30 days tenure\"\" not \"\"500 edits OR 30 days tenure\"\". Both the criteria of less than 500 edits and 30 days tenure needs to be met for the prohibition to apply, as the editor has been active since 13 November 2013, this prohibition doesn't apply to them. \" \n",
      " \n",
      "was cleaned into:\n",
      "\n",
      "  prohibition anonymous editors accounts less edits days tenure edits days tenure criteria less edits days tenure needs met prohibition apply editor active since november prohibition doesnt apply \n",
      "\n",
      "\n",
      "\n",
      "the comment:\n",
      "\n",
      "  \" Evidence Is there any evidence that treating \"\"MCS\"\" psychologicaly has ever helped?\" \n",
      " \n",
      "was cleaned into:\n",
      "\n",
      "  evidence evidence treating mcs ever helped \n",
      "\n",
      "\n",
      "\n",
      "the comment:\n",
      "\n",
      "  \" Again this dispute has absolutely nothing to do with the \"\"curlingbox\"\". I've told the other user what the problem is, I've told you what the problem is and now I'm repeating myself. I'm done discussing this as I refuse to waste my time and energy explaining the same thing over and over! \" \n",
      " \n",
      "was cleaned into:\n",
      "\n",
      "  dispute absolutely nothing ive told user problem ive told problem repeating done discussing refuse waste time energy explaining thing \n",
      "\n",
      "\n",
      "\n",
      "the comment:\n",
      "\n",
      "  Radial symmetry Several now extinct lineages included in the Echinodermata were bilateral such as Homostelea, or even asymmetrical such as Cothurnocystis (Stylophora). - \n",
      " \n",
      "was cleaned into:\n",
      "\n",
      "  radial symmetry several extinct included bilateral even asymmetrical \n",
      "\n",
      "\n",
      "\n",
      "the comment:\n",
      "\n",
      "  Image making Hey. I just wanted to ask you what type of software you use to make images, as I'd like to start making some myself! The pictures you make are always great, and I'd like to make some just like yours. \n",
      " \n",
      "was cleaned into:\n",
      "\n",
      "  image making hey wanted ask type software use make images like start making pictures make always great like make like \n",
      "\n",
      "\n",
      "\n",
      "the comment:\n",
      "\n",
      "  to it, presumably to try and get it deleted. Please note that user talk pages are in general not deleted, see WP:UP#DELTALK, which is why the deletion keeps getting declined. As an alternative you can blank the page (as you have done) or move the talk page to an archive. Best - 13 \n",
      " \n",
      "was cleaned into:\n",
      "\n",
      "  presumably try get deleted please note user talk pages general deleted see deletion keeps getting declined alternative blank page done move talk page archive best \n",
      "\n",
      "\n",
      "\n",
      "the comment:\n",
      "\n",
      "  as it is really hard to imagine a garrison as a nation. Even a city: Italian historic cities, which have been independent since ancient times and have a much richer history and a much more homogenous ancestry are not labelled as nations anywhere. Why it is the case of Gibraltar? \n",
      " \n",
      "was cleaned into:\n",
      "\n",
      "  really hard imagine garrison nation even city italian historic cities independent since ancient times much richer history much homogenous ancestry labelled nations anywhere case gibraltar \n",
      "\n",
      "\n",
      "\n",
      "the comment:\n",
      "\n",
      "  cracka jack holdin it down, pic stays homie \n",
      " \n",
      "was cleaned into:\n",
      "\n",
      "  cracka jack holdin pic stays homie \n",
      "\n",
      "\n",
      "\n",
      "the comment:\n",
      "\n",
      "  FisherQueen, would you kindly stop following my every move and deleting things off MY user page. Havent you got anything better to do than piss people off on Wikipedia. \n",
      " \n",
      "was cleaned into:\n",
      "\n",
      "  would kindly stop following every move deleting things user page havent got anything better piss people wikipedia \n",
      "\n",
      "\n",
      "\n",
      "the comment:\n",
      "\n",
      "  Trying to manipulate cherry-picked sentences from various publications isn't a credible tactic at all. \n",
      " \n",
      "was cleaned into:\n",
      "\n",
      "  trying manipulate sentences various publications isnt credible tactic \n",
      "\n",
      "\n",
      "\n"
     ]
    }
   ],
   "source": [
    "\n",
    "for comment in random_comment_selection:\n",
    "    \n",
    "    cleaned_comment = cleaned_corpus_dict[comment]\n",
    "    \n",
    "    comment = ' '.join(comment)\n",
    "    cleaned_comment = ' '.join(cleaned_comment)\n",
    "    \n",
    "    print('the comment:\\n\\n ', comment,'\\n \\n' 'was cleaned into:\\n\\n ', cleaned_comment, '\\n\\n\\n' )"
   ]
  },
  {
   "cell_type": "markdown",
   "metadata": {},
   "source": [
    "# Exploring the corpus:"
   ]
  },
  {
   "cell_type": "markdown",
   "metadata": {},
   "source": [
    "## Describing the comment lengths:"
   ]
  },
  {
   "cell_type": "code",
   "execution_count": 25,
   "metadata": {},
   "outputs": [],
   "source": [
    "## the function below gives the histogram of the corpus according to certain scalar property of each comment:\n",
    "## we'll use the comment length here\n",
    "\n",
    "\n",
    "def histogram(corpus, prop, Name = None):\n",
    "    mean = np.mean([prop(comment) for comment in corpus])\n",
    "    std = np.std([prop(comment) for  comment in corpus])\n",
    "    plt.hist([prop(comment) for comment in corpus], \n",
    "             range = (mean-std,mean+std)\n",
    "             )\n",
    "    if Name == None:\n",
    "        Name = ''\n",
    "    plt.title(Name)\n",
    "    plt.ylabel(\"Frequency\")\n",
    "    fig = plt.gcf()\n",
    "    plt.show()\n",
    "\n",
    "    \n",
    "## the function below returns the descriptive statistics of the corpus which includes the IQR and outliers:\n",
    "\n",
    "def describe(corpus,prop):\n",
    "    \n",
    "    #first transform the corpus from a list to a dataframe:\n",
    "    corpus_as_df = pd.Series([prop(comment) for comment in corpus])\n",
    "    \n",
    "    #next apply the describe method to the dataframe:\n",
    "    corpus_stats = corpus_as_df.describe()\n",
    "    \n",
    "    # add some additional descriptive statistics to the dictionary:\n",
    "    \n",
    "    # the interquartile range:\n",
    "    IQR = corpus_stats['75%'] - corpus_stats['25%']\n",
    "    corpus_stats['IQR'] = IQR\n",
    "    \n",
    "    #the outlier range (following Tukey's rule):\n",
    "    outlier_range = [corpus_stats['25%']-1.5*IQR, corpus_stats['75%']+1.5*IQR, ]\n",
    "    corpus_stats['outlier range'] = outlier_range\n",
    "    \n",
    "    #the number of outliers:\n",
    "    nr_outliers = len([comment for comment in corpus if prop(comment)<outlier_range[0] or prop(comment)>outlier_range[1]])\n",
    "    corpus_stats[\"nr of outliers\"] = nr_outliers\n",
    "    \n",
    "    return corpus_stats"
   ]
  },
  {
   "cell_type": "markdown",
   "metadata": {},
   "source": [
    "We  provide the descriptive statistics of the length of each comment of the corpus and compare it to the cleaned corpus:"
   ]
  },
  {
   "cell_type": "code",
   "execution_count": 26,
   "metadata": {
    "scrolled": true
   },
   "outputs": [
    {
     "data": {
      "image/png": "[encoded data removed]",
      "text/plain": [
       "<matplotlib.figure.Figure at 0x126934630>"
      ]
     },
     "metadata": {},
     "output_type": "display_data"
    },
    {
     "name": "stdout",
     "output_type": "stream",
     "text": [
      "None\n"
     ]
    },
    {
     "data": {
      "image/png": "[encoded data removed]",
      "text/plain": [
       "<matplotlib.figure.Figure at 0x103c15ba8>"
      ]
     },
     "metadata": {},
     "output_type": "display_data"
    },
    {
     "name": "stdout",
     "output_type": "stream",
     "text": [
      "None\n",
      "the lengths of the comments are distributed as follows:\n",
      " ********************************* \n",
      " count                     159568\n",
      "mean                     67.2722\n",
      "std                      99.2308\n",
      "min                            1\n",
      "25%                           17\n",
      "50%                           36\n",
      "75%                           75\n",
      "max                         1411\n",
      "IQR                           58\n",
      "outlier range     [-70.0, 162.0]\n",
      "nr of outliers             14401\n",
      "dtype: object \n",
      " ******************************** \n",
      "\n",
      "the lengths of the cleaned comments are distributed as follows:\n",
      " ********************************* \n",
      " count                    159568\n",
      "mean                    31.5042\n",
      "std                     48.4364\n",
      "min                           0\n",
      "25%                           8\n",
      "50%                          17\n",
      "75%                          35\n",
      "max                        1250\n",
      "IQR                          27\n",
      "outlier range     [-32.5, 75.5]\n",
      "nr of outliers            14576\n",
      "dtype: object \n",
      " ******************************** \n",
      "\n"
     ]
    }
   ],
   "source": [
    "print(histogram(corpus, prop, 'comment lengths of raw corpus'))\n",
    "print(histogram(cleaned_corpus,prop, \"comment lengths of cleaned corpus\"))\n",
    "\n",
    "print('the lengths of the comments are distributed as follows:\\n','*'*33,'\\n', describe(corpus,prop),'\\n',\"*\"*32,'\\n')\n",
    "print('the lengths of the cleaned comments are distributed as follows:\\n','*'*33,'\\n', describe(cleaned_corpus,prop),'\\n',\"*\"*32,'\\n')"
   ]
  },
  {
   "cell_type": "markdown",
   "metadata": {},
   "source": [
    "## Removing outliers from the dataset:"
   ]
  },
  {
   "cell_type": "code",
   "execution_count": 27,
   "metadata": {},
   "outputs": [],
   "source": [
    "def remove_outliers(data, prop):\n",
    "    outlier_range = describe(data, prop)['outlier range']\n",
    "    corpus_without_outliers = [comment for comment in corpus if prop(comment)< outlier_range[1] and prop(comment)> outlier_range[0]]\n",
    "    data_without_outliers = {comment: data[comment] for comment in corpus_without_outliers }\n",
    "    return data_without_outliers"
   ]
  },
  {
   "cell_type": "code",
   "execution_count": 28,
   "metadata": {
    "collapsed": true
   },
   "outputs": [],
   "source": [
    "def cprop(comment):\n",
    "    return len(cleaned_corpus_dict[comment])"
   ]
  },
  {
   "cell_type": "markdown",
   "metadata": {},
   "source": [
    "## Describing the labels:"
   ]
  },
  {
   "cell_type": "code",
   "execution_count": 29,
   "metadata": {},
   "outputs": [],
   "source": [
    "## the function below returns a bar plot of the probabilty for each category:\n",
    "\n",
    "def plot_labels(data):\n",
    "\n",
    "    def probability(data):\n",
    "        \n",
    "        labels = [data[comment] for comment in data]\n",
    "        \n",
    "        size = len(labels)\n",
    "        frequency = []\n",
    "        \n",
    "        labels = np.array(labels)\n",
    "        for index in range(num_categories):\n",
    "            class_frequency = sum(labels[:,index])\n",
    "            frequency.append(class_frequency)\n",
    "        \n",
    "        probability = [i/size for i in frequency]\n",
    "        return probability\n",
    "    \n",
    "    \n",
    "    probability = probability(data)\n",
    "    \n",
    "    #plot the figure:\n",
    "    fig = plt.figure(figsize=(12, 4))\n",
    "    \n",
    "    #declare the title\n",
    "    fig.suptitle(\"toxicity of comments\")\n",
    "    plt.autoscale(enable=False, axis='y')\n",
    "    ind = np.arange(len(categories))\n",
    "    plt.bar(ind, probability, width = 0.85, color='g')\n",
    "    plt.xticks(ind, categories)\n",
    "    plt.show()\n",
    "    "
   ]
  },
  {
   "cell_type": "code",
   "execution_count": 30,
   "metadata": {},
   "outputs": [
    {
     "data": {
      "image/png": "[encoded data removed]",
      "text/plain": [
       "<matplotlib.figure.Figure at 0x119415710>"
      ]
     },
     "metadata": {},
     "output_type": "display_data"
    }
   ],
   "source": [
    "plot_labels(data)"
   ]
  },
  {
   "cell_type": "code",
   "execution_count": 31,
   "metadata": {},
   "outputs": [
    {
     "name": "stdout",
     "output_type": "stream",
     "text": [
      "about 10.1699588890003 percent of comments are nonzero\n"
     ]
    }
   ],
   "source": [
    "print(\"about\", 100*len([comment for comment in corpus if sum(data[comment])!= 0])/len(corpus), \"percent of comments are nonzero\")"
   ]
  },
  {
   "cell_type": "markdown",
   "metadata": {},
   "source": [
    "## Removing bias:"
   ]
  },
  {
   "cell_type": "code",
   "execution_count": 32,
   "metadata": {},
   "outputs": [],
   "source": [
    "def reduce_bias(data, percentage):\n",
    "\n",
    "    #obtain the nonzero comments:\n",
    "    data_nonzero_labels = {comment: label for (comment, label) in data.items() if sum(label) != 0}\n",
    "    \n",
    "    #pick a random percentage of zero comments:\n",
    "    size = round(percentage * len(data))\n",
    "    list_of_comments = [comment for comment in data if comment not in data_nonzero_labels]\n",
    "    sublist_of_comments = sample(list_of_comments, size)\n",
    "    \n",
    "    #turn the comments into a dataset\n",
    "    smaller_data= {comment: data[comment] for comment in sublist_of_comments}\n",
    "\n",
    "    # combine the above dataset together with the nonzero comments:\n",
    "    smaller_data.update(data_nonzero_labels) \n",
    "    \n",
    "    return smaller_data"
   ]
  },
  {
   "cell_type": "markdown",
   "metadata": {},
   "source": [
    "# reducing the lengths of the comments:"
   ]
  },
  {
   "cell_type": "markdown",
   "metadata": {},
   "source": [
    "## First method: pick the top TfIdf words:"
   ]
  },
  {
   "cell_type": "code",
   "execution_count": 33,
   "metadata": {},
   "outputs": [],
   "source": [
    "# The function below computes the TfIdf score for each word in the corpus\n",
    "# It returns score information as a couple 'TfIdf_info' which consists of \n",
    "# It first returns the sparse matrix 'scores'  whose (i,j)-th entry is the tfidf-score of word j within comment i \n",
    "# of the corpus\n",
    "# In order to retrieve the score of a word (not just an abstract index), \n",
    "# it also returns 'vocab', an array whose j-th-entry is the word in column j of 'scores'\n",
    "\n",
    "def TfIdf(corpus):\n",
    "        \n",
    "    # transform each comment into one single string in order to use TfIdf\n",
    "    corpus_as_str = corpus_as_strings(corpus)\n",
    "    \n",
    "    #compute Tfidf scores\n",
    "    tfidf=TfidfVectorizer()\n",
    "    scores=tfidf.fit_transform(corpus_as_str)\n",
    "        \n",
    "    #TfIdf also assigns an index to each individual word. The following retrieves the word assigned to the index\n",
    "    column_to_vocab=tfidf.get_feature_names()\n",
    "        \n",
    "    TfIdf_info = {'scores' : scores, 'column_to_vocab' : column_to_vocab}\n",
    "        \n",
    "    return  TfIdf_info\n",
    "    \n",
    "# next we construct a function that takes in the comment of the corpus and keeps only the the dimension-amount amount\n",
    "# of words with top TfIdf scores.\n",
    "#Since this function uses the TfIdf_info, we'll need to include the corpus to translate a row index to a comment:\n",
    "    \n",
    "def shrink_comment(comment, TfIdf_info, corpus, max_comment_length):\n",
    "    \n",
    "    scores = TfIdf_info['scores']\n",
    "    column_to_vocab = TfIdf_info['column_to_vocab']\n",
    "    \n",
    "    # Obtain the row-index of the comment in the scores-matrix:\n",
    "    i = corpus.index(comment)\n",
    "    \n",
    "    # Get the scores of each word in the comment of the corpus of given index \n",
    "    row = scores.getrow(i)\n",
    "    \n",
    "    # Keep the nonzero column-indices as an array\n",
    "    indices = csr_matrix.nonzero(row)[1]\n",
    "    \n",
    "    # write down the Tfidf-score of each word-index\n",
    "    entries = [scores[i,j] for j in indices]\n",
    "    \n",
    "    # sort those scores and keep only the top ones\n",
    "    top_entries = np.argsort(entries)[-max_comment_length:]\n",
    "\n",
    "    # get the corresponding column-index for each score\n",
    "    top_word_indices = [indices[j] for j in top_entries]\n",
    "    \n",
    "    # get the corresponding word for each column index:\n",
    "    shrunken_comment = [column_to_vocab[j] for j in top_word_indices]\n",
    "    \n",
    "    # make the schrunken comment into a tuple:\n",
    "    shrunken_comment = tuple(shrunken_comment)\n",
    "    \n",
    "    return shrunken_comment\n",
    "\n",
    "#finally, we apply the function to the whole of the corpus and return the results in the form of a dictionary:\n",
    "#def reduce_comment_length(corpus, TfIdf_info, max_comment_length):\n",
    "    \n",
    "#    return {comment: shrink_comment(comment, TfIdf_info, corpus, max_comment_length) for comment in tqdm.tqdm(corpus)}"
   ]
  },
  {
   "cell_type": "markdown",
   "metadata": {},
   "source": [
    "We illustrate how this procedure works on a specific comment:"
   ]
  },
  {
   "cell_type": "code",
   "execution_count": 34,
   "metadata": {},
   "outputs": [],
   "source": [
    "TfIdf_info = TfIdf(cleaned_corpus)\n",
    "scores = TfIdf_info['scores']\n",
    "column_to_vocab = TfIdf_info['column_to_vocab']"
   ]
  },
  {
   "cell_type": "code",
   "execution_count": 35,
   "metadata": {},
   "outputs": [],
   "source": [
    "index = np.random.choice((len(cleaned_corpus)),1)[0]\n",
    "comment = corpus[index]\n",
    "cleaned_comment = cleaned_corpus[index]"
   ]
  },
  {
   "cell_type": "code",
   "execution_count": 36,
   "metadata": {},
   "outputs": [
    {
     "name": "stdout",
     "output_type": "stream",
     "text": [
      "the comment:\n",
      "\n",
      " Content from Future energy development should be merged here == Some content from the Hubbert peak article was moved to a new article Future energy development, this article seems like the more appropriate place to move that info if it's not redundant. Though perhaps alternative energy != renewable energy? 01:39, 12 Dec 2004 (UTC) == \n",
      "\n",
      "\n",
      "was cleaned into the comment:\n",
      "\n",
      " content future energy development merged content peak article moved new article future energy development article seems like appropriate place move info redundant though perhaps alternative energy renewable energy dec utc \n",
      "\n",
      "\n",
      "the TfIdf scores are:\n",
      "\n",
      " {'energy': 0.65591759580808273, 'future': 0.25178623150094803, 'development': 0.31012284536819362, 'redundant': 0.17005251234092106, 'seems': 0.10159186917538371, 'info': 0.12378879682432521, 'though': 0.10507659312830853, 'perhaps': 0.11406371680276339, 'moved': 0.13242854279473351, 'appropriate': 0.1223348986016457, 'renewable': 0.23986917533955468, 'utc': 0.098413573908543758, 'like': 0.07028480106887422, 'dec': 0.16601482538606036, 'move': 0.12365580719122145, 'alternative': 0.15317189163746606, 'merged': 0.15665563699857368, 'peak': 0.20355341157388857, 'place': 0.10234234684303847, 'content': 0.20540450092144136, 'new': 0.092977077326021076, 'article': 0.18254321514855951} \n",
      "\n",
      "\n",
      "and was shrunk to the comment of size 5:\n",
      "\n",
      " content renewable future development energy\n"
     ]
    }
   ],
   "source": [
    "print('the comment:\\n\\n',' '.join(comment), '\\n\\n')\n",
    "\n",
    "\n",
    "print('was cleaned into the comment:\\n\\n',' '.join(cleaned_comment), '\\n\\n')\n",
    "\n",
    "# obtain the 22nd row in the scores matrix:\n",
    "row = scores.getrow(index)\n",
    "\n",
    "# obtain the nonzero indices in that row \n",
    "indices = csr_matrix.nonzero(row)[1]\n",
    "\n",
    "#obtain the corresponding words in the vocab together with their TfIdf scores:\n",
    "result = {column_to_vocab[j]: scores[index,j] for j in indices}\n",
    "\n",
    "print('the TfIdf scores are:\\n\\n',result, '\\n\\n')\n",
    "\n",
    "# shrink the comment to size 5: \n",
    "shrunken_comment = shrink_comment(cleaned_comment, TfIdf_info, cleaned_corpus, 5)\n",
    "\n",
    "print('and was shrunk to the comment of size 5:\\n\\n', ' '.join(shrunken_comment))"
   ]
  },
  {
   "cell_type": "markdown",
   "metadata": {},
   "source": [
    "There's a bug in the column_to_vocab method of the TfIdf vectorizer in which a tiny amount of words get reprinted incorrectly. for example 'i̇zmir' becomes 'zmir'..The following function fixes this:"
   ]
  },
  {
   "cell_type": "code",
   "execution_count": 37,
   "metadata": {
    "collapsed": true
   },
   "outputs": [],
   "source": [
    "def fix_bug(corpus, admissible_words):\n",
    "    fixed_corpus = []\n",
    "    for comment in corpus:\n",
    "        comment = [word for word in comment if word in admissible_words]\n",
    "        comment = tuple(comment)\n",
    "        fixed_corpus.append(comment)\n",
    "    return fixed_corpus"
   ]
  },
  {
   "cell_type": "markdown",
   "metadata": {},
   "source": [
    "## Second method: Pick the first n words:"
   ]
  },
  {
   "cell_type": "code",
   "execution_count": 38,
   "metadata": {
    "collapsed": true
   },
   "outputs": [],
   "source": [
    "def slice_comment(comment, max_comment_length):\n",
    "    return comment[:max_comment_length]\n"
   ]
  },
  {
   "cell_type": "markdown",
   "metadata": {},
   "source": [
    "## Embedding the corpus and reducing the dimension:"
   ]
  },
  {
   "cell_type": "code",
   "execution_count": 39,
   "metadata": {},
   "outputs": [],
   "source": [
    "# The following function embeds the vocabulary of the corpus and applies a principal component analysis.\n",
    "# it returns embedded_vocab: a dictionary with\n",
    "#   keys: words in the vocab\n",
    "#   values: the embedded word with PCA applied to it\n",
    "# Optionally, it also returns the explained variance of the PCA as well as the PCA object itself\n",
    "\n",
    "def embed_vocab(vocab, embedding, dimension, pca = None):\n",
    "    \n",
    "    # embed the vocabulary in the form of a dictionary:\n",
    "    embedded_vocab = {word : embedding[word] for word in vocab}\n",
    "    \n",
    "    # Build a PCA object:\n",
    "    pca=PCA(n_components=dimension)\n",
    "    \n",
    "    #fit the object to the embedded vocab:\n",
    "    pca.fit([embedded_vocab[word] for word in vocab])\n",
    "    \n",
    "    #return the variance of the PCA:\n",
    "    variance = pca.explained_variance_ratio_\n",
    "    \n",
    "    #Apply the PCA to the embedded vocabulary:\n",
    "    embedded_vocab = { word : tuple(pca.transform([embedding[word]])[0]) for word in vocab}\n",
    "    if pca != None:\n",
    "        return embedded_vocab, variance, pca \n",
    "    else:\n",
    "        return embedded_vocab, variance\n",
    "\n",
    "\n",
    "# Apply the above function to the each comment in the corpus:\n",
    "\n",
    "def embed_comment(comment, embedded_vocab):\n",
    "    \n",
    "    embedded_comment = [embedded_vocab[word] for word in comment]\n",
    "    \n",
    "    embedded_comment = tuple(embedded_comment)\n",
    "    \n",
    "    return embedded_comment\n",
    "    "
   ]
  },
  {
   "cell_type": "markdown",
   "metadata": {},
   "source": [
    "## Reshaping the Matrices:"
   ]
  },
  {
   "cell_type": "code",
   "execution_count": 40,
   "metadata": {},
   "outputs": [],
   "source": [
    "def reshape_comment(comment, m,n):\n",
    "\n",
    "    l = len(comment)\n",
    "\n",
    "    #Reformat the comment from a list to a a matrix of size lxn\n",
    "    comment_array = np.asarray(comment)\n",
    "    comment_matrix = comment_array.reshape(l,n)\n",
    "\n",
    "    #Reshape the array of arrays into a single matrix:\n",
    "    padding = np.zeros((m-l,n))\n",
    "    reshaped_comment = np.concatenate((comment_matrix,padding),axis = 0)\n",
    "        \n",
    "    return reshaped_comment\n",
    "\n",
    "def reshape_corpus(corpus,m,n):\n",
    "    reshaped_corpus_dict = {comment: reshape_comment(comment,m,n) for comment in corpus}\n",
    "    return reshaped_corpus_dict\n"
   ]
  },
  {
   "cell_type": "markdown",
   "metadata": {},
   "source": [
    "## Prepping the data:"
   ]
  },
  {
   "cell_type": "code",
   "execution_count": 41,
   "metadata": {},
   "outputs": [],
   "source": [
    "def prepare(data, embedding, prop, percentage, max_comment_length, dimension, method, verbose = None):\n",
    "\n",
    "    # obtain the corpus from the data:\n",
    "    corpus = [comment for comment in data.keys()]\n",
    "    \n",
    "    if verbose == True:\n",
    "        #obtain the vocab of the corpus:\n",
    "        vocab = get_vocab(corpus)\n",
    "    \n",
    "    #declare the admissible words:\n",
    "    admissible_words = embedding.keys()\n",
    "    \n",
    "    if verbose == True:\n",
    "        print('\\n the corpus consists of', len(corpus),'comments and', len(vocab), 'words\\n ')\n",
    "        print(\"\\n cleaning the corpus: \\n\")\n",
    "        time.sleep(2)\n",
    "    \n",
    "    #obtain the cleaned corpus in the form of a disctionary since we will reuse it later:\n",
    "    if verbose == True:\n",
    "        cleaned_corpus_dict = {comment: clean_comment(comment, admissible_words) for comment in tqdm.tqdm(corpus)}\n",
    "    else:\n",
    "        cleaned_corpus_dict = {comment: clean_comment(comment, admissible_words) for comment in corpus}\n",
    "\n",
    "    #obtain the cleaned vocab\n",
    "    cleaned_vocab = get_vocab(cleaned_corpus_dict.keys())\n",
    "    \n",
    "    if verbose == True:\n",
    "        print('\\n the corpus was cleaned, the vocabulary now consists of', len(cleaned_vocab), 'words \\n')\n",
    "    \n",
    "    #remove outliers from the data by considering the property associated to the cleaned comment:\n",
    "    def cprop(comment):\n",
    "        return prop(cleaned_corpus_dict[comment])\n",
    "        \n",
    "    data_without_outliers = remove_outliers(data, cprop)\n",
    "    \n",
    "    if verbose == True:\n",
    "        print('\\n',len(data)-len(data_without_outliers),'outliers were removed \\n')\n",
    "         \n",
    "          \n",
    "    #shrink the dataset to reduce bias towards nonzero comments:    \n",
    "    smaller_data = reduce_bias(data_without_outliers, percentage)\n",
    "    \n",
    "    #get the smaller corpus:\n",
    "    smaller_corpus = [comment for comment in smaller_data.keys()]\n",
    "    \n",
    "    #obtain the smaller cleaned corpus:\n",
    "    smaller_cleaned_corpus = [cleaned_corpus_dict[comment] for comment in smaller_corpus]\n",
    "    \n",
    "    #obtain the smaller cleaned vocab\n",
    "    smaller_cleaned_vocab = get_vocab(smaller_cleaned_corpus)\n",
    "    \n",
    "    if verbose == True:\n",
    "        percentage = percentage *100\n",
    "        print('\\n the dataset was shrunk and only', percentage, 'percent of nonzero comments were kept \\n')\n",
    "        print('\\n the dataset now consists of', len(smaller_cleaned_corpus), 'comments and',len(smaller_cleaned_vocab), 'words \\n'  )\n",
    "        print('\\n reducing the comment length:\\n')\n",
    "        time.sleep(2)\n",
    "    \n",
    "    #next reduce the max size of each comment:\n",
    "    if method == \"TfIdf\": \n",
    "        #obtain the TfIdf-info of the corpus:\n",
    "        TfIdf_info = TfIdf(smaller_cleaned_corpus)\n",
    "    \n",
    "        # reduce the max comment length of the corpus\n",
    "        if verbose == True:\n",
    "            reduced_comment_corpus =  [shrink_comment(comment, TfIdf_info, smaller_cleaned_corpus, max_comment_length) for comment in tqdm.tqdm(smaller_cleaned_corpus)]\n",
    "        else:\n",
    "            reduced_comment_corpus =  [shrink_comment(comment, TfIdf_info, smaller_cleaned_corpus, max_comment_length) for comment in smaller_cleaned_corpus]\n",
    "        \n",
    "        #fix the mistranslation bug:\n",
    "        reduced_comment_corpus = fix_bug(reduced_comment_corpus, admissible_words)\n",
    "        if verbose == True:\n",
    "            print('\\n each comment was reduced to size at most', max_comment_length, 'by computing top TfIdf scores' '\\n')\n",
    "\n",
    "    elif method == 'slice':\n",
    "        if verbose == True:\n",
    "            reduced_comment_corpus = [slice_comment(comment, max_comment_length) for comment in tqdm.tqdm(smaller_cleaned_corpus)]\n",
    "        else:\n",
    "            reduced_comment_corpus = [slice_comment(comment, max_comment_length) for comment in smaller_cleaned_corpus]\n",
    "        if verbose == True:        \n",
    "            print('\\n each comment was reduced to size at most', max_comment_length, 'by keeping only the first words' '\\n')\n",
    "            time.sleep(2)\n",
    "    \n",
    "    #obtain the vocab for the corpus of reduced comments:\n",
    "    reduced_vocab = get_vocab(reduced_comment_corpus)\n",
    "    \n",
    "    #embed the vocab:\n",
    "    embedded_vocab, variance, pca = embed_vocab(reduced_vocab, embedding, dimension)\n",
    "    \n",
    "\n",
    "    #embed the whole corpus:\n",
    "    if verbose == True:\n",
    "        embedded_corpus = [embed_comment(comment, embedded_vocab) for comment in tqdm.tqdm(reduced_comment_corpus)]\n",
    "    else:\n",
    "        embedded_corpus = [embed_comment(comment, embedded_vocab) for comment in reduced_comment_corpus]\n",
    " \n",
    "    if verbose == True:          \n",
    "        print('\\n each comment was embedded into', '25-dimensional space \\n and reduced to', dimension,'-dimensional space\\n')\n",
    "        print('\\n the variance along each component is:', variance, '\\n')\n",
    "        time.sleep(2)     \n",
    "    #reshape each embedded comment in the corpus:\n",
    "    if verbose == True:\n",
    "        reshaped_corpus =  [reshape_comment(comment, max_comment_length, dimension) for comment in tqdm.tqdm(embedded_corpus)]\n",
    "        time.sleep(2)\n",
    "    else:\n",
    "        reshaped_corpus =  [reshape_comment(comment, max_comment_length, dimension) for comment in embedded_corpus]\n",
    "\n",
    "          \n",
    "          \n",
    "    if verbose == True:      \n",
    "        print('finally each comment was reshapen into a', max_comment_length, 'by', dimension, 'matrix' )\n",
    "    \n",
    "    embedding = dict(zip(smaller_corpus,reshaped_corpus))\n",
    "    \n",
    "    #reshape the corpus into a list of arrays\n",
    "    return smaller_data, embedding\n",
    "\n",
    "    \n",
    "    \n",
    "    "
   ]
  },
  {
   "cell_type": "code",
   "execution_count": 42,
   "metadata": {},
   "outputs": [
    {
     "name": "stdout",
     "output_type": "stream",
     "text": [
      "\n",
      " the corpus consists of 159371 comments and 532227 words\n",
      " \n",
      "\n",
      " cleaning the corpus: \n",
      "\n"
     ]
    },
    {
     "name": "stderr",
     "output_type": "stream",
     "text": [
      "100%|██████████| 159371/159371 [03:59<00:00, 665.31it/s]\n"
     ]
    },
    {
     "name": "stdout",
     "output_type": "stream",
     "text": [
      "\n",
      " the corpus was cleaned, the vocabulary now consists of 532227 words \n",
      "\n",
      "\n",
      " 14549 outliers were removed \n",
      "\n",
      "\n",
      " the dataset was shrunk and only 40.0 percent of nonzero comments were kept \n",
      "\n",
      "\n",
      " the dataset now consists of 73218 comments and 50336 words \n",
      "\n",
      "\n",
      " reducing the comment length:\n",
      "\n"
     ]
    },
    {
     "name": "stderr",
     "output_type": "stream",
     "text": [
      "100%|██████████| 73218/73218 [16:18<00:00, 74.80it/s]\n"
     ]
    },
    {
     "name": "stdout",
     "output_type": "stream",
     "text": [
      "\n",
      " each comment was reduced to size at most 100 "
     ]
    },
    {
     "name": "stderr",
     "output_type": "stream",
     "text": [
      "100%|██████████| 73218/73218 [00:00<00:00, 177424.59it/s]\n"
     ]
    },
    {
     "name": "stdout",
     "output_type": "stream",
     "text": [
      "by computing top TfIdf scores\n",
      "\n",
      "\n",
      " each comment was embedded into 25-dimensional space \n",
      " and reduced to 22 -dimensional space\n",
      "\n",
      "\n",
      " the variance along each component is: [ 0.14379875  0.0990197   0.06643492  0.05837384  0.05382225  0.04627029\n",
      "  0.04222049  0.04050131  0.03936306  0.03703778  0.03532668  0.03425428\n",
      "  0.03294008  0.03190535  0.03059773  0.02821238  0.02804978  0.02588921\n",
      "  0.02512753  0.02287852  0.02173292  0.01826616] \n",
      "\n"
     ]
    },
    {
     "name": "stderr",
     "output_type": "stream",
     "text": [
      "100%|██████████| 73218/73218 [00:06<00:00, 11469.87it/s]\n"
     ]
    },
    {
     "name": "stdout",
     "output_type": "stream",
     "text": [
      "finally each comment was reshapen into a 100 by 22 matrix\n"
     ]
    }
   ],
   "source": [
    "new_data, comment_embedding = prepare(data, embedding, prop, percentage, max_comment_length, dimension, 'TfIdf', True)"
   ]
  },
  {
   "cell_type": "code",
   "execution_count": 43,
   "metadata": {},
   "outputs": [],
   "source": [
    "def preprocess(data, embedding):\n",
    "    \n",
    "    \n",
    "    #obtain the embedded comment and associated label:\n",
    "    embedded_data = [[embedding[comment], label] for (comment,label) in data.items()]\n",
    "    \n",
    "    features = [i[0] for i in embedded_data]\n",
    "    labels = [i[1] for i in embedded_data]\n",
    "    \n",
    "    #split into traininf and testing features:\n",
    "    training_features, testing_features, training_labels, testing_labels = train_test_split(features, labels,test_size=0.20, random_state=42)\n",
    "    \n",
    "    \n",
    "    # turn into arrays for the purposes of Keras:\n",
    "    training_features = np.asarray(training_features)\n",
    "    testing_features = np.asarray(testing_features)\n",
    "    training_labels = np.asarray(training_labels)\n",
    "    testing_labels = np.asarray(testing_labels)\n",
    "    \n",
    "    features = {\n",
    "        'testing' : testing_features,\n",
    "        'training' : training_features,\n",
    "    }\n",
    "    \n",
    "    labels = {\n",
    "        'testing': testing_labels,\n",
    "        'training': training_labels,    \n",
    "        }\n",
    "\n",
    "    return features, labels"
   ]
  },
  {
   "cell_type": "code",
   "execution_count": 44,
   "metadata": {},
   "outputs": [],
   "source": [
    "features, labels = preprocess(new_data, comment_embedding)"
   ]
  },
  {
   "cell_type": "markdown",
   "metadata": {},
   "source": [
    "# Preparing the Neural Net functionalities:"
   ]
  },
  {
   "cell_type": "code",
   "execution_count": 45,
   "metadata": {
    "collapsed": true
   },
   "outputs": [],
   "source": [
    "# the function below plots the learning curves of the network:\n",
    "\n",
    "def learning_curves(model):\n",
    "    #plot the learning curve for the accuracy\n",
    "        #plot the accuracy on the training set\n",
    "        plt.plot(model.history['f1'])\n",
    "        #plot the accuracy on the testing set\n",
    "        plt.plot(model.history['val_f1'])\n",
    "        #describe the labels\n",
    "        plt.ylabel('accuracy')\n",
    "        plt.xlabel('epoch')\n",
    "        plt.legend(['train', 'test'], loc='upper left')\n",
    "        plt.show()\n",
    "    # plot the learning curve for the loss\n",
    "        #plot the loss on the training set\n",
    "        plt.plot(model.history['loss'])\n",
    "        #plot the loss on the testing set\n",
    "        plt.plot(model.history['val_loss'])\n",
    "        #describe the labels\n",
    "        plt.ylabel('loss')\n",
    "        plt.xlabel('epoch')\n",
    "        plt.legend(['train', 'test'], loc='upper left')\n",
    "        plt.show()"
   ]
  },
  {
   "cell_type": "code",
   "execution_count": 46,
   "metadata": {
    "collapsed": true
   },
   "outputs": [],
   "source": [
    "## the function below creates a custom accuracy metric for our purposes:\n",
    "\n",
    "def f1(y_true, y_pred):\n",
    "    \n",
    "    def recall(y_true, y_pred):\n",
    "        \n",
    "        \"\"\"\n",
    "        Recall metric.\n",
    "\n",
    "        Only computes a batch-wise average of recall.\n",
    "\n",
    "        Computes the recall, a metric for multi-label classification of\n",
    "        how many relevant items are selected.\n",
    "        \"\"\"\n",
    "        \n",
    "        labels = int_shape(y_pred)[1]\n",
    "        true_positives = []\n",
    "        total_positives = []\n",
    "        \n",
    "        fuzz = K.epsilon()\n",
    "        \n",
    "        for i in range(labels):\n",
    "            # for each label, compute the number of true positives (correctly predicted positive values)\n",
    "            true_positives.append(K.sum(K.round(K.clip(y_true[:, i] * y_pred[:, i], 0, 1))))\n",
    "            \n",
    "            #for each label, compute the number of positives\n",
    "            total_positives.append(K.sum(K.round(K.clip(y_true[:, i], 0, 1))))\n",
    "        \n",
    "        #next, compute the percentage of true positives:\n",
    "        true_positives = K.mean(tf.stack(true_positives), axis=-1)\n",
    "        #compute the percentage of total positives\n",
    "        total_positives = K.mean(tf.stack(total_positives), axis=-1) \n",
    "        \n",
    "        \n",
    "        # divide true positives by total positives (using a fuzz factor to avoid division by zero)\n",
    "        recall = true_positives / (total_positives+fuzz)\n",
    "\n",
    "        \n",
    "        return recall\n",
    "\n",
    "    def precision(y_true, y_pred):\n",
    "        \n",
    "        \"\"\"\n",
    "        Precision metric.\n",
    "\n",
    "        Only computes a batch-wise average of precision.\n",
    "\n",
    "        Computes the precision, a metric for multi-label classification of\n",
    "        how many selected items are relevant.\n",
    "        \"\"\"\n",
    "        \n",
    "        labels = int_shape(y_pred)[1]\n",
    "        true_positives = []\n",
    "        predicted_positives = []\n",
    "        fuzz = K.epsilon()\n",
    "        \n",
    "        for i in range(labels):\n",
    "            \n",
    "            # for each label, compute the number of true positives\n",
    "            true_positives.append(K.sum(K.round(K.clip(y_true[:, i] * y_pred[:, i], 0, 1))))\n",
    "            \n",
    "            #for each label compute the number of predicted positives\n",
    "            predicted_positives.append(K.sum(K.round(K.clip(y_pred[:, i], 0, 1))))\n",
    "        \n",
    "        # compute the probability of true positives\n",
    "        true_positives = K.mean(tf.stack(true_positives), axis=-1) \n",
    "        \n",
    "        #compute the probability of predicted positives\n",
    "        predicted_positives = K.mean(tf.stack(predicted_positives), axis=-1) \n",
    "        \n",
    "        \n",
    "        # divide both to obtain the precision (using a fuzz factor to avoif division by zero)\n",
    "        precision = true_positives / (predicted_positives + fuzz)\n",
    "        return precision\n",
    "    \n",
    "    \n",
    "    #finally we'll compute the f1-score using the precision/recall formula\n",
    "    precision = precision(y_true, y_pred)\n",
    "    recall = recall(y_true, y_pred)\n",
    "    f1 = 2*((precision*recall)/(precision+recall+K.epsilon()))\n",
    "    return f1\n"
   ]
  },
  {
   "cell_type": "code",
   "execution_count": 47,
   "metadata": {
    "collapsed": true
   },
   "outputs": [],
   "source": [
    "## the function below creates a loss function better suited for our problem:\n",
    "\n",
    "from sklearn.metrics import log_loss\n",
    "from keras.backend import int_shape\n",
    "import keras.backend as K\n",
    "import tensorflow as tf\n",
    "_EPSILON = K.epsilon()\n",
    "\n",
    "def custom_loss(y_true, y_pred):\n",
    "    losses = []\n",
    "    y_pred = K.clip(y_pred, _EPSILON, 1.0-_EPSILON)\n",
    "    num_classes = int_shape(y_pred)[1]\n",
    "    for i in range(num_classes):\n",
    "        losses.append(-K.mean(\n",
    "            y_true[:, i]*K.log(y_pred[:, i]) + (1.0-y_true[:, i])*K.log(1.0-y_pred[:, i]\n",
    "        ), axis = -1))\n",
    "    loss = tf.stack(losses)\n",
    "    loss = K.mean(loss, axis=-1)\n",
    "        \n",
    "    return loss"
   ]
  },
  {
   "cell_type": "code",
   "execution_count": 48,
   "metadata": {
    "collapsed": true
   },
   "outputs": [],
   "source": [
    "## customize the callback for each epoch\n",
    "\n",
    "import sklearn.metrics as sklm\n",
    "from keras.callbacks import Callback\n",
    "\n",
    "class Metrics(Callback):\n",
    "    def on_train_begin(self, logs={}):\n",
    "        self.losses = []\n",
    "        self.losses_dev = []\n",
    "\n",
    "\n",
    "    def on_epoch_end(self, epoch, logs={}):\n",
    "        self.losses.append(logs.get('loss'))\n",
    "        self.losses_dev.append(logs.get('val_loss'))\n",
    "        return"
   ]
  },
  {
   "cell_type": "code",
   "execution_count": 49,
   "metadata": {
    "collapsed": true
   },
   "outputs": [],
   "source": [
    "def run_model(model, epochs, batch_size):\n",
    "    metrics = Metrics()\n",
    "    model.compile(optimizer = 'adam', loss = custom_loss, metrics = [f1])\n",
    "    fitted_model = model.fit(features['training'], labels['training'], validation_data=(features['testing'], labels['testing']), epochs = epochs, batch_size = batch_size, verbose =1)\n",
    "    learning_curves(fitted_model)\n",
    "    return fitted_model"
   ]
  },
  {
   "cell_type": "markdown",
   "metadata": {},
   "source": [
    "# Building a basemodel:"
   ]
  },
  {
   "cell_type": "markdown",
   "metadata": {
    "collapsed": true
   },
   "source": [
    "We begin by building neural which takes in an input of size dimension. \n",
    "To this end, we simply embed each word according to the preprocessing steps and subsequently take the sum of each column vector in the embedding."
   ]
  },
  {
   "cell_type": "code",
   "execution_count": 50,
   "metadata": {},
   "outputs": [],
   "source": [
    "new_data, comment_embedding = prepare(data, embedding, prop, percentage, max_comment_length, dimension, 'TfIdf', False)\n",
    "features, labels = preprocess(new_data, comment_embedding)"
   ]
  },
  {
   "cell_type": "code",
   "execution_count": 51,
   "metadata": {},
   "outputs": [],
   "source": [
    "averaged_training_features = np.asarray([np.sum(feature, axis=0) for feature in features['training']])\n",
    "averaged_testing_features = np.asarray([np.sum(feature, axis =0) for feature in features['testing']])"
   ]
  },
  {
   "cell_type": "code",
   "execution_count": 52,
   "metadata": {},
   "outputs": [],
   "source": [
    "features['training'] = averaged_training_features\n",
    "features['testing'] = averaged_testing_features"
   ]
  },
  {
   "cell_type": "code",
   "execution_count": 53,
   "metadata": {},
   "outputs": [
    {
     "name": "stdout",
     "output_type": "stream",
     "text": [
      "_________________________________________________________________\n",
      "Layer (type)                 Output Shape              Param #   \n",
      "=================================================================\n",
      "dense_1 (Dense)              (None, 64)                1472      \n",
      "_________________________________________________________________\n",
      "dense_2 (Dense)              (None, 32)                2080      \n",
      "_________________________________________________________________\n",
      "dense_3 (Dense)              (None, 6)                 198       \n",
      "=================================================================\n",
      "Total params: 3,750.0\n",
      "Trainable params: 3,750\n",
      "Non-trainable params: 0.0\n",
      "_________________________________________________________________\n"
     ]
    }
   ],
   "source": [
    "base_model = Sequential()\n",
    "base_model.add(Dense(64, input_dim = dimension, activation = 'relu'))\n",
    "base_model.add(Dense(32, input_dim = dimension))\n",
    "base_model.add(Dense(6, activation = 'sigmoid'))\n",
    "\n",
    "base_model.summary()"
   ]
  },
  {
   "cell_type": "code",
   "execution_count": 54,
   "metadata": {},
   "outputs": [
    {
     "name": "stdout",
     "output_type": "stream",
     "text": [
      "Train on 58574 samples, validate on 14644 samples\n",
      "Epoch 1/50\n",
      "58574/58574 [==============================] - 7s - loss: 0.2134 - f1: 0.5222 - val_loss: 0.1471 - val_f1: 0.5936\n",
      "Epoch 2/50\n",
      "58574/58574 [==============================] - 4s - loss: 0.1454 - f1: 0.5841 - val_loss: 0.1349 - val_f1: 0.5851\n",
      "Epoch 3/50\n",
      "58574/58574 [==============================] - 4s - loss: 0.1382 - f1: 0.5891 - val_loss: 0.1313 - val_f1: 0.5850\n",
      "Epoch 4/50\n",
      "58574/58574 [==============================] - 4s - loss: 0.1344 - f1: 0.5923 - val_loss: 0.1332 - val_f1: 0.5614\n",
      "Epoch 5/50\n",
      "58574/58574 [==============================] - 4s - loss: 0.1340 - f1: 0.5893 - val_loss: 0.1313 - val_f1: 0.6164\n",
      "Epoch 6/50\n",
      "58574/58574 [==============================] - 4s - loss: 0.1323 - f1: 0.5952 - val_loss: 0.1305 - val_f1: 0.5602\n",
      "Epoch 7/50\n",
      "58574/58574 [==============================] - 4s - loss: 0.1309 - f1: 0.5993 - val_loss: 0.1350 - val_f1: 0.5658\n",
      "Epoch 8/50\n",
      "58574/58574 [==============================] - 4s - loss: 0.1303 - f1: 0.5980 - val_loss: 0.1282 - val_f1: 0.6231\n",
      "Epoch 9/50\n",
      "58574/58574 [==============================] - 5s - loss: 0.1287 - f1: 0.6028 - val_loss: 0.1260 - val_f1: 0.6083\n",
      "Epoch 10/50\n",
      "58574/58574 [==============================] - 5s - loss: 0.1286 - f1: 0.6064 - val_loss: 0.1278 - val_f1: 0.6039\n",
      "Epoch 11/50\n",
      "58574/58574 [==============================] - 5s - loss: 0.1279 - f1: 0.6042 - val_loss: 0.1266 - val_f1: 0.6186\n",
      "Epoch 12/50\n",
      "58574/58574 [==============================] - 5s - loss: 0.1274 - f1: 0.6080 - val_loss: 0.1261 - val_f1: 0.6029\n",
      "Epoch 13/50\n",
      "58574/58574 [==============================] - 4s - loss: 0.1270 - f1: 0.6089 - val_loss: 0.1259 - val_f1: 0.6186\n",
      "Epoch 14/50\n",
      "58574/58574 [==============================] - 4s - loss: 0.1265 - f1: 0.6101 - val_loss: 0.1261 - val_f1: 0.6164\n",
      "Epoch 15/50\n",
      "58574/58574 [==============================] - 4s - loss: 0.1260 - f1: 0.6167 - val_loss: 0.1263 - val_f1: 0.6253\n",
      "Epoch 16/50\n",
      "58574/58574 [==============================] - 4s - loss: 0.1256 - f1: 0.6136 - val_loss: 0.1256 - val_f1: 0.6296\n",
      "Epoch 17/50\n",
      "58574/58574 [==============================] - 5s - loss: 0.1255 - f1: 0.6128 - val_loss: 0.1253 - val_f1: 0.6191\n",
      "Epoch 18/50\n",
      "58574/58574 [==============================] - 5s - loss: 0.1250 - f1: 0.6156 - val_loss: 0.1252 - val_f1: 0.6325\n",
      "Epoch 19/50\n",
      "58574/58574 [==============================] - 6s - loss: 0.1248 - f1: 0.6162 - val_loss: 0.1250 - val_f1: 0.6122\n",
      "Epoch 20/50\n",
      "58574/58574 [==============================] - 6s - loss: 0.1249 - f1: 0.6165 - val_loss: 0.1251 - val_f1: 0.5972\n",
      "Epoch 21/50\n",
      "58574/58574 [==============================] - 6s - loss: 0.1245 - f1: 0.6158 - val_loss: 0.1250 - val_f1: 0.6120\n",
      "Epoch 22/50\n",
      "58574/58574 [==============================] - 6s - loss: 0.1243 - f1: 0.6176 - val_loss: 0.1244 - val_f1: 0.6114\n",
      "Epoch 23/50\n",
      "58574/58574 [==============================] - 5s - loss: 0.1240 - f1: 0.6213 - val_loss: 0.1247 - val_f1: 0.6143\n",
      "Epoch 24/50\n",
      "58574/58574 [==============================] - 5s - loss: 0.1239 - f1: 0.6198 - val_loss: 0.1242 - val_f1: 0.6330\n",
      "Epoch 25/50\n",
      "58574/58574 [==============================] - 4s - loss: 0.1238 - f1: 0.6202 - val_loss: 0.1238 - val_f1: 0.6096\n",
      "Epoch 26/50\n",
      "58574/58574 [==============================] - 4s - loss: 0.1235 - f1: 0.6200 - val_loss: 0.1242 - val_f1: 0.6218\n",
      "Epoch 27/50\n",
      "58574/58574 [==============================] - 4s - loss: 0.1235 - f1: 0.6200 - val_loss: 0.1249 - val_f1: 0.6087\n",
      "Epoch 28/50\n",
      "58574/58574 [==============================] - 5s - loss: 0.1233 - f1: 0.6227 - val_loss: 0.1259 - val_f1: 0.6337\n",
      "Epoch 29/50\n",
      "58574/58574 [==============================] - 5s - loss: 0.1233 - f1: 0.6213 - val_loss: 0.1241 - val_f1: 0.6158\n",
      "Epoch 30/50\n",
      "58574/58574 [==============================] - 5s - loss: 0.1230 - f1: 0.6242 - val_loss: 0.1242 - val_f1: 0.6184\n",
      "Epoch 31/50\n",
      "58574/58574 [==============================] - 5s - loss: 0.1228 - f1: 0.6243 - val_loss: 0.1243 - val_f1: 0.6234\n",
      "Epoch 32/50\n",
      "58574/58574 [==============================] - 5s - loss: 0.1229 - f1: 0.6255 - val_loss: 0.1241 - val_f1: 0.6152\n",
      "Epoch 33/50\n",
      "58574/58574 [==============================] - 4s - loss: 0.1226 - f1: 0.6258 - val_loss: 0.1248 - val_f1: 0.6323\n",
      "Epoch 34/50\n",
      "58574/58574 [==============================] - 4s - loss: 0.1225 - f1: 0.6253 - val_loss: 0.1238 - val_f1: 0.6133\n",
      "Epoch 35/50\n",
      "58574/58574 [==============================] - 4s - loss: 0.1224 - f1: 0.6287 - val_loss: 0.1234 - val_f1: 0.6273\n",
      "Epoch 36/50\n",
      "58574/58574 [==============================] - 4s - loss: 0.1222 - f1: 0.6268 - val_loss: 0.1250 - val_f1: 0.6014\n",
      "Epoch 37/50\n",
      "58574/58574 [==============================] - 4s - loss: 0.1224 - f1: 0.6260 - val_loss: 0.1238 - val_f1: 0.6266\n",
      "Epoch 38/50\n",
      "58574/58574 [==============================] - 4s - loss: 0.1220 - f1: 0.6266 - val_loss: 0.1236 - val_f1: 0.6316\n",
      "Epoch 39/50\n",
      "58574/58574 [==============================] - 4s - loss: 0.1220 - f1: 0.6288 - val_loss: 0.1240 - val_f1: 0.6235\n",
      "Epoch 40/50\n",
      "58574/58574 [==============================] - 4s - loss: 0.1219 - f1: 0.6269 - val_loss: 0.1261 - val_f1: 0.6408\n",
      "Epoch 41/50\n",
      "58574/58574 [==============================] - 5s - loss: 0.1217 - f1: 0.6262 - val_loss: 0.1242 - val_f1: 0.6157\n",
      "Epoch 42/50\n",
      "58574/58574 [==============================] - 4s - loss: 0.1216 - f1: 0.6279 - val_loss: 0.1242 - val_f1: 0.6384\n",
      "Epoch 43/50\n",
      "58574/58574 [==============================] - 4s - loss: 0.1218 - f1: 0.6290 - val_loss: 0.1240 - val_f1: 0.6231\n",
      "Epoch 44/50\n",
      "58574/58574 [==============================] - 4s - loss: 0.1215 - f1: 0.6284 - val_loss: 0.1245 - val_f1: 0.6197\n",
      "Epoch 45/50\n",
      "58574/58574 [==============================] - 4s - loss: 0.1214 - f1: 0.6281 - val_loss: 0.1249 - val_f1: 0.6280\n",
      "Epoch 46/50\n",
      "58574/58574 [==============================] - 4s - loss: 0.1214 - f1: 0.6292 - val_loss: 0.1257 - val_f1: 0.6042\n",
      "Epoch 47/50\n",
      "58574/58574 [==============================] - 4s - loss: 0.1212 - f1: 0.6300 - val_loss: 0.1238 - val_f1: 0.6204\n",
      "Epoch 48/50\n",
      "58574/58574 [==============================] - 4s - loss: 0.1213 - f1: 0.6292 - val_loss: 0.1241 - val_f1: 0.6258\n",
      "Epoch 49/50\n",
      "58574/58574 [==============================] - 5s - loss: 0.1210 - f1: 0.6304 - val_loss: 0.1249 - val_f1: 0.6244\n",
      "Epoch 50/50\n",
      "58574/58574 [==============================] - 4s - loss: 0.1211 - f1: 0.6313 - val_loss: 0.1243 - val_f1: 0.6165\n"
     ]
    },
    {
     "data": {
      "image/png": "[encoded data removed]",
      "text/plain": [
       "<matplotlib.figure.Figure at 0x11932b470>"
      ]
     },
     "metadata": {},
     "output_type": "display_data"
    },
    {
     "data": {
      "image/png": "[encoded data removed]",
      "text/plain": [
       "<matplotlib.figure.Figure at 0x11fe2fdd8>"
      ]
     },
     "metadata": {},
     "output_type": "display_data"
    }
   ],
   "source": [
    "base_net = run_model(base_model, 50, 128)"
   ]
  },
  {
   "cell_type": "markdown",
   "metadata": {},
   "source": [
    "## Building a Feedforward neural net:"
   ]
  },
  {
   "cell_type": "markdown",
   "metadata": {},
   "source": [
    "we next build a neural net that takes in the whole matrix as input:"
   ]
  },
  {
   "cell_type": "code",
   "execution_count": 59,
   "metadata": {},
   "outputs": [],
   "source": [
    "new_data, comment_embedding = prepare(data, embedding, prop, percentage, max_comment_length, dimension, 'TfIdf', False)\n",
    "features, labels = preprocess(new_data, comment_embedding)"
   ]
  },
  {
   "cell_type": "code",
   "execution_count": 60,
   "metadata": {},
   "outputs": [
    {
     "name": "stdout",
     "output_type": "stream",
     "text": [
      "_________________________________________________________________\n",
      "Layer (type)                 Output Shape              Param #   \n",
      "=================================================================\n",
      "dense_11 (Dense)             (None, 100, 2200)         50600     \n",
      "_________________________________________________________________\n",
      "dense_12 (Dense)             (None, 100, 64)           140864    \n",
      "_________________________________________________________________\n",
      "flatten_2 (Flatten)          (None, 6400)              0         \n",
      "_________________________________________________________________\n",
      "dense_13 (Dense)             (None, 32)                204832    \n",
      "_________________________________________________________________\n",
      "dense_14 (Dense)             (None, 6)                 198       \n",
      "=================================================================\n",
      "Total params: 396,494.0\n",
      "Trainable params: 396,494.0\n",
      "Non-trainable params: 0.0\n",
      "_________________________________________________________________\n"
     ]
    }
   ],
   "source": [
    "matrix_model = Sequential()\n",
    "matrix_model.add(Dense(dimension*max_comment_length,input_shape = (max_comment_length, dimension), activation = 'relu'))\n",
    "matrix_model.add(Dense(64, activation = 'relu'))\n",
    "matrix_model.add(Flatten())\n",
    "matrix_model.add(Dense(32 ))\n",
    "matrix_model.add(Dense(6, activation =\"sigmoid\"))\n",
    "matrix_model.summary()"
   ]
  },
  {
   "cell_type": "code",
   "execution_count": 61,
   "metadata": {},
   "outputs": [
    {
     "name": "stdout",
     "output_type": "stream",
     "text": [
      "Train on 46988 samples, validate on 11748 samples\n",
      "Epoch 1/50\n",
      "46988/46988 [==============================] - 347s - loss: 0.1583 - f1: 0.6095 - val_loss: 0.1277 - val_f1: 0.7032\n",
      "Epoch 2/50\n",
      "46988/46988 [==============================] - 334s - loss: 0.1240 - f1: 0.7219 - val_loss: 0.1223 - val_f1: 0.7205\n",
      "Epoch 3/50\n",
      "46988/46988 [==============================] - 319s - loss: 0.1176 - f1: 0.7367 - val_loss: 0.1219 - val_f1: 0.7122\n",
      "Epoch 4/50\n",
      "46988/46988 [==============================] - 315s - loss: 0.1118 - f1: 0.7474 - val_loss: 0.1227 - val_f1: 0.7138\n",
      "Epoch 5/50\n",
      "46988/46988 [==============================] - 329s - loss: 0.1066 - f1: 0.7620 - val_loss: 0.1221 - val_f1: 0.7448\n",
      "Epoch 6/50\n",
      "46988/46988 [==============================] - 320s - loss: 0.1020 - f1: 0.7718 - val_loss: 0.1239 - val_f1: 0.7515\n",
      "Epoch 7/50\n",
      "46988/46988 [==============================] - 310s - loss: 0.0978 - f1: 0.7839 - val_loss: 0.1317 - val_f1: 0.7503\n",
      "Epoch 8/50\n",
      "46988/46988 [==============================] - 302s - loss: 0.0938 - f1: 0.7915 - val_loss: 0.1266 - val_f1: 0.7335\n",
      "Epoch 9/50\n",
      "46988/46988 [==============================] - 302s - loss: 0.0899 - f1: 0.8019 - val_loss: 0.1300 - val_f1: 0.7400\n",
      "Epoch 10/50\n",
      "46988/46988 [==============================] - 315s - loss: 0.0869 - f1: 0.8077 - val_loss: 0.1370 - val_f1: 0.7499\n",
      "Epoch 11/50\n",
      "46988/46988 [==============================] - 310s - loss: 0.0843 - f1: 0.8141 - val_loss: 0.1402 - val_f1: 0.7420\n",
      "Epoch 12/50\n",
      "46988/46988 [==============================] - 306s - loss: 0.0816 - f1: 0.8199 - val_loss: 0.1423 - val_f1: 0.7320\n",
      "Epoch 13/50\n",
      "46988/46988 [==============================] - 307s - loss: 0.0785 - f1: 0.8288 - val_loss: 0.1457 - val_f1: 0.7300\n",
      "Epoch 14/50\n",
      "46988/46988 [==============================] - 307s - loss: 0.0759 - f1: 0.8340 - val_loss: 0.1574 - val_f1: 0.7099\n",
      "Epoch 15/50\n",
      "46988/46988 [==============================] - 305s - loss: 0.0737 - f1: 0.8398 - val_loss: 0.1525 - val_f1: 0.7346\n",
      "Epoch 16/50\n",
      "46988/46988 [==============================] - 312s - loss: 0.0721 - f1: 0.8430 - val_loss: 0.1571 - val_f1: 0.7318\n",
      "Epoch 17/50\n",
      "46988/46988 [==============================] - 307s - loss: 0.0712 - f1: 0.8470 - val_loss: 0.1619 - val_f1: 0.7270\n",
      "Epoch 18/50\n",
      "46988/46988 [==============================] - 307s - loss: 0.0685 - f1: 0.8521 - val_loss: 0.1717 - val_f1: 0.7313\n",
      "Epoch 19/50\n",
      "46988/46988 [==============================] - 305s - loss: 0.0661 - f1: 0.8587 - val_loss: 0.1714 - val_f1: 0.7244\n",
      "Epoch 20/50\n",
      "46988/46988 [==============================] - 306s - loss: 0.0642 - f1: 0.8616 - val_loss: 0.1794 - val_f1: 0.7229\n",
      "Epoch 21/50\n",
      "46988/46988 [==============================] - 306s - loss: 0.0625 - f1: 0.8662 - val_loss: 0.1830 - val_f1: 0.7257\n",
      "Epoch 22/50\n",
      "46988/46988 [==============================] - 309s - loss: 0.0618 - f1: 0.8687 - val_loss: 0.1882 - val_f1: 0.7124\n",
      "Epoch 23/50\n",
      "46988/46988 [==============================] - 307s - loss: 0.0603 - f1: 0.8721 - val_loss: 0.1897 - val_f1: 0.7218\n",
      "Epoch 24/50\n",
      "46988/46988 [==============================] - 302s - loss: 0.0589 - f1: 0.8744 - val_loss: 0.1948 - val_f1: 0.7218\n",
      "Epoch 25/50\n",
      "46988/46988 [==============================] - 301s - loss: 0.0568 - f1: 0.8800 - val_loss: 0.2015 - val_f1: 0.7272\n",
      "Epoch 26/50\n",
      "46988/46988 [==============================] - 301s - loss: 0.0553 - f1: 0.8840 - val_loss: 0.2056 - val_f1: 0.7085\n",
      "Epoch 27/50\n",
      "46988/46988 [==============================] - 304s - loss: 0.0543 - f1: 0.8861 - val_loss: 0.2097 - val_f1: 0.7168\n",
      "Epoch 28/50\n",
      "46988/46988 [==============================] - 304s - loss: 0.0542 - f1: 0.8867 - val_loss: 0.2118 - val_f1: 0.7144\n",
      "Epoch 29/50\n",
      "46988/46988 [==============================] - 303s - loss: 0.0523 - f1: 0.8914 - val_loss: 0.2205 - val_f1: 0.7125\n",
      "Epoch 30/50\n",
      "46988/46988 [==============================] - 303s - loss: 0.0522 - f1: 0.8912 - val_loss: 0.2259 - val_f1: 0.7134\n",
      "Epoch 31/50\n",
      "46988/46988 [==============================] - 304s - loss: 0.0506 - f1: 0.8939 - val_loss: 0.2244 - val_f1: 0.7191\n",
      "Epoch 32/50\n",
      "46988/46988 [==============================] - 303s - loss: 0.0497 - f1: 0.8963 - val_loss: 0.2312 - val_f1: 0.7068\n",
      "Epoch 33/50\n",
      "46988/46988 [==============================] - 305s - loss: 0.0489 - f1: 0.9003 - val_loss: 0.2332 - val_f1: 0.7101\n",
      "Epoch 34/50\n",
      "46988/46988 [==============================] - 303s - loss: 0.0464 - f1: 0.9043 - val_loss: 0.2391 - val_f1: 0.7039\n",
      "Epoch 35/50\n",
      "46988/46988 [==============================] - 303s - loss: 0.0472 - f1: 0.9026 - val_loss: 0.2404 - val_f1: 0.7178\n",
      "Epoch 36/50\n",
      "46988/46988 [==============================] - 305s - loss: 0.0454 - f1: 0.9064 - val_loss: 0.2461 - val_f1: 0.7118\n",
      "Epoch 37/50\n",
      "46988/46988 [==============================] - 303s - loss: 0.0451 - f1: 0.9083 - val_loss: 0.2558 - val_f1: 0.7084\n",
      "Epoch 38/50\n",
      "46988/46988 [==============================] - 302s - loss: 0.0451 - f1: 0.9061 - val_loss: 0.2520 - val_f1: 0.7126\n",
      "Epoch 39/50\n",
      "46988/46988 [==============================] - 304s - loss: 0.0450 - f1: 0.9069 - val_loss: 0.2530 - val_f1: 0.7127\n",
      "Epoch 40/50\n",
      "46988/46988 [==============================] - 304s - loss: 0.0421 - f1: 0.9155 - val_loss: 0.2614 - val_f1: 0.6992\n",
      "Epoch 41/50\n",
      "46988/46988 [==============================] - 305s - loss: 0.0422 - f1: 0.9135 - val_loss: 0.2604 - val_f1: 0.7063\n",
      "Epoch 42/50\n",
      "46988/46988 [==============================] - 305s - loss: 0.0419 - f1: 0.9147 - val_loss: 0.2661 - val_f1: 0.7070\n",
      "Epoch 43/50\n",
      "46988/46988 [==============================] - 305s - loss: 0.0408 - f1: 0.9177 - val_loss: 0.2738 - val_f1: 0.7028\n",
      "Epoch 44/50\n",
      "46988/46988 [==============================] - 307s - loss: 0.0402 - f1: 0.9188 - val_loss: 0.2774 - val_f1: 0.7120\n",
      "Epoch 45/50\n",
      "46988/46988 [==============================] - 311s - loss: 0.0395 - f1: 0.9200 - val_loss: 0.2970 - val_f1: 0.6988\n",
      "Epoch 46/50\n",
      "46988/46988 [==============================] - 323s - loss: 0.0405 - f1: 0.9175 - val_loss: 0.2820 - val_f1: 0.7134\n",
      "Epoch 47/50\n",
      "46988/46988 [==============================] - 324s - loss: 0.0377 - f1: 0.9250 - val_loss: 0.2883 - val_f1: 0.7030\n",
      "Epoch 48/50\n",
      "46988/46988 [==============================] - 323s - loss: 0.0371 - f1: 0.9269 - val_loss: 0.2911 - val_f1: 0.7058\n",
      "Epoch 49/50\n",
      "46988/46988 [==============================] - 339s - loss: 0.0375 - f1: 0.9253 - val_loss: 0.2905 - val_f1: 0.7068\n",
      "Epoch 50/50\n",
      "46988/46988 [==============================] - 336s - loss: 0.0379 - f1: 0.9231 - val_loss: 0.2896 - val_f1: 0.7062\n"
     ]
    },
    {
     "data": {
      "image/png": "[encoded data removed]",
      "text/plain": [
       "<matplotlib.figure.Figure at 0x1a8979588>"
      ]
     },
     "metadata": {},
     "output_type": "display_data"
    },
    {
     "data": {
      "image/png": "[encoded data removed]",
      "text/plain": [
       "<matplotlib.figure.Figure at 0x17bee6e10>"
      ]
     },
     "metadata": {},
     "output_type": "display_data"
    }
   ],
   "source": [
    "matrix_net = run_model(matrix_model, 50, 128)"
   ]
  },
  {
   "cell_type": "markdown",
   "metadata": {},
   "source": [
    "## Building an LSTM neural net:"
   ]
  },
  {
   "cell_type": "code",
   "execution_count": 51,
   "metadata": {},
   "outputs": [],
   "source": [
    "new_data, comment_embedding = prepare(data, embedding, prop, percentage, max_comment_length, dimension, 'slice', False)\n",
    "features, labels = preprocess(new_data, comment_embedding)"
   ]
  },
  {
   "cell_type": "code",
   "execution_count": 55,
   "metadata": {},
   "outputs": [
    {
     "name": "stdout",
     "output_type": "stream",
     "text": [
      "_________________________________________________________________\n",
      "Layer (type)                 Output Shape              Param #   \n",
      "=================================================================\n",
      "lstm_3 (LSTM)                (None, 64)                22272     \n",
      "_________________________________________________________________\n",
      "dense_9 (Dense)              (None, 32)                2080      \n",
      "_________________________________________________________________\n",
      "dense_10 (Dense)             (None, 6)                 198       \n",
      "=================================================================\n",
      "Total params: 24,550.0\n",
      "Trainable params: 24,550\n",
      "Non-trainable params: 0.0\n",
      "_________________________________________________________________\n"
     ]
    }
   ],
   "source": [
    "RR_model = Sequential()\n",
    "RR_model.add(LSTM(64,\n",
    "               input_shape=(max_comment_length, dimension)))\n",
    "RR_model.add(Dense(32, activation = 'relu'))\n",
    "RR_model.add(Dense(6, activation='sigmoid'))\n",
    "RR_model.summary()"
   ]
  },
  {
   "cell_type": "code",
   "execution_count": 58,
   "metadata": {
    "scrolled": false
   },
   "outputs": [
    {
     "name": "stdout",
     "output_type": "stream",
     "text": [
      "Train on 46988 samples, validate on 11748 samples\n",
      "Epoch 1/50\n",
      "46988/46988 [==============================] - 249s - loss: 0.2546 - f1: 0.1576 - val_loss: 0.2351 - val_f1: 0.3506\n",
      "Epoch 2/50\n",
      "46988/46988 [==============================] - 395s - loss: 0.2319 - f1: 0.3854 - val_loss: 0.2534 - val_f1: 0.2076\n",
      "Epoch 3/50\n",
      "46988/46988 [==============================] - 241s - loss: 0.2427 - f1: 0.2826 - val_loss: 0.2046 - val_f1: 0.5332\n",
      "Epoch 4/50\n",
      "46988/46988 [==============================] - 251s - loss: 0.1983 - f1: 0.5227 - val_loss: 0.1890 - val_f1: 0.5020\n",
      "Epoch 5/50\n",
      "46988/46988 [==============================] - 241s - loss: 0.1830 - f1: 0.5625 - val_loss: 0.1805 - val_f1: 0.5536\n",
      "Epoch 6/50\n",
      "46988/46988 [==============================] - 414s - loss: 0.1740 - f1: 0.5955 - val_loss: 0.1624 - val_f1: 0.6242\n",
      "Epoch 7/50\n",
      "46988/46988 [==============================] - 459s - loss: 0.1732 - f1: 0.5960 - val_loss: 0.2281 - val_f1: 0.2364\n",
      "Epoch 8/50\n",
      "46988/46988 [==============================] - 356s - loss: 0.1634 - f1: 0.6283 - val_loss: 0.1512 - val_f1: 0.6723\n",
      "Epoch 9/50\n",
      "46988/46988 [==============================] - 358s - loss: 0.1472 - f1: 0.6828 - val_loss: 0.1459 - val_f1: 0.6737\n",
      "Epoch 10/50\n",
      "46988/46988 [==============================] - 380s - loss: 0.1417 - f1: 0.6847 - val_loss: 0.1402 - val_f1: 0.6716\n",
      "Epoch 11/50\n",
      "46988/46988 [==============================] - 324s - loss: 0.1364 - f1: 0.6880 - val_loss: 0.1352 - val_f1: 0.6863\n",
      "Epoch 12/50\n",
      "46988/46988 [==============================] - 305s - loss: 0.1332 - f1: 0.6913 - val_loss: 0.1336 - val_f1: 0.6782\n",
      "Epoch 13/50\n",
      "46988/46988 [==============================] - 261s - loss: 0.1308 - f1: 0.6965 - val_loss: 0.1318 - val_f1: 0.6732\n",
      "Epoch 14/50\n",
      "46988/46988 [==============================] - 245s - loss: 0.1318 - f1: 0.6971 - val_loss: 0.1304 - val_f1: 0.6939\n",
      "Epoch 15/50\n",
      "46988/46988 [==============================] - 253s - loss: 0.1282 - f1: 0.7052 - val_loss: 0.1293 - val_f1: 0.7018\n",
      "Epoch 16/50\n",
      "46988/46988 [==============================] - 253s - loss: 0.1266 - f1: 0.7071 - val_loss: 0.1282 - val_f1: 0.7032\n",
      "Epoch 17/50\n",
      "46988/46988 [==============================] - 249s - loss: 0.1252 - f1: 0.7114 - val_loss: 0.1266 - val_f1: 0.7017\n",
      "Epoch 18/50\n",
      "46988/46988 [==============================] - 251s - loss: 0.1240 - f1: 0.7129 - val_loss: 0.1264 - val_f1: 0.7089\n",
      "Epoch 19/50\n",
      "46988/46988 [==============================] - 247s - loss: 0.1235 - f1: 0.7149 - val_loss: 0.1245 - val_f1: 0.7104\n",
      "Epoch 20/50\n",
      "46988/46988 [==============================] - 244s - loss: 0.1221 - f1: 0.7185 - val_loss: 0.1258 - val_f1: 0.7128\n",
      "Epoch 21/50\n",
      "46988/46988 [==============================] - 251s - loss: 0.1214 - f1: 0.7202 - val_loss: 0.1285 - val_f1: 0.7240\n",
      "Epoch 22/50\n",
      "46988/46988 [==============================] - 246s - loss: 0.1206 - f1: 0.7223 - val_loss: 0.1229 - val_f1: 0.7046\n",
      "Epoch 23/50\n",
      "46988/46988 [==============================] - 251s - loss: 0.1193 - f1: 0.7243 - val_loss: 0.1225 - val_f1: 0.6993\n",
      "Epoch 24/50\n",
      "46988/46988 [==============================] - 243s - loss: 0.1185 - f1: 0.7274 - val_loss: 0.1209 - val_f1: 0.7181\n",
      "Epoch 25/50\n",
      "46988/46988 [==============================] - 251s - loss: 0.1176 - f1: 0.7277 - val_loss: 0.1227 - val_f1: 0.6869\n",
      "Epoch 26/50\n",
      "46988/46988 [==============================] - 261s - loss: 0.1169 - f1: 0.7297 - val_loss: 0.1211 - val_f1: 0.7194\n",
      "Epoch 27/50\n",
      "46988/46988 [==============================] - 292s - loss: 0.1162 - f1: 0.7304 - val_loss: 0.1189 - val_f1: 0.7265\n",
      "Epoch 28/50\n",
      "46988/46988 [==============================] - 361s - loss: 0.1156 - f1: 0.7331 - val_loss: 0.1196 - val_f1: 0.7284\n",
      "Epoch 29/50\n",
      "46988/46988 [==============================] - 325s - loss: 0.1152 - f1: 0.7339 - val_loss: 0.1185 - val_f1: 0.7096\n",
      "Epoch 30/50\n",
      "46988/46988 [==============================] - 306s - loss: 0.1138 - f1: 0.7378 - val_loss: 0.1173 - val_f1: 0.7234\n",
      "Epoch 31/50\n",
      "46988/46988 [==============================] - 360s - loss: 0.1131 - f1: 0.7393 - val_loss: 0.1170 - val_f1: 0.7248\n",
      "Epoch 32/50\n",
      "46988/46988 [==============================] - 357s - loss: 0.1124 - f1: 0.7424 - val_loss: 0.1188 - val_f1: 0.7078\n",
      "Epoch 33/50\n",
      "46988/46988 [==============================] - 288s - loss: 0.1119 - f1: 0.7428 - val_loss: 0.1193 - val_f1: 0.7296\n",
      "Epoch 34/50\n",
      "46988/46988 [==============================] - 261s - loss: 0.1109 - f1: 0.7455 - val_loss: 0.1160 - val_f1: 0.7253\n",
      "Epoch 35/50\n",
      "46988/46988 [==============================] - 246s - loss: 0.1100 - f1: 0.7485 - val_loss: 0.1152 - val_f1: 0.7349\n",
      "Epoch 36/50\n",
      "46988/46988 [==============================] - 243s - loss: 0.1090 - f1: 0.7506 - val_loss: 0.1162 - val_f1: 0.7141\n",
      "Epoch 37/50\n",
      "46988/46988 [==============================] - 245s - loss: 0.1087 - f1: 0.7511 - val_loss: 0.1151 - val_f1: 0.7402\n",
      "Epoch 38/50\n",
      "46988/46988 [==============================] - 234s - loss: 0.1080 - f1: 0.7510 - val_loss: 0.1154 - val_f1: 0.7329\n",
      "Epoch 39/50\n",
      "46988/46988 [==============================] - 233s - loss: 0.1108 - f1: 0.7486 - val_loss: 0.1162 - val_f1: 0.7265\n",
      "Epoch 40/50\n",
      "46988/46988 [==============================] - 234s - loss: 0.1087 - f1: 0.7519 - val_loss: 0.1237 - val_f1: 0.7042\n",
      "Epoch 41/50\n",
      "46988/46988 [==============================] - 234s - loss: 0.1075 - f1: 0.7535 - val_loss: 0.1155 - val_f1: 0.7415\n",
      "Epoch 42/50\n",
      "46988/46988 [==============================] - 234s - loss: 0.1062 - f1: 0.7581 - val_loss: 0.1200 - val_f1: 0.7049\n",
      "Epoch 43/50\n",
      "46988/46988 [==============================] - 237s - loss: 0.1053 - f1: 0.7575 - val_loss: 0.1155 - val_f1: 0.7298\n",
      "Epoch 44/50\n",
      "46988/46988 [==============================] - 250s - loss: 0.1078 - f1: 0.7566 - val_loss: 0.1169 - val_f1: 0.7242\n",
      "Epoch 45/50\n",
      "46988/46988 [==============================] - 249s - loss: 0.1048 - f1: 0.7608 - val_loss: 0.1156 - val_f1: 0.7387\n",
      "Epoch 46/50\n",
      "46988/46988 [==============================] - 244s - loss: 0.1033 - f1: 0.7641 - val_loss: 0.1176 - val_f1: 0.7052\n",
      "Epoch 47/50\n",
      "46988/46988 [==============================] - 234s - loss: 0.1027 - f1: 0.7650 - val_loss: 0.1158 - val_f1: 0.7443\n",
      "Epoch 48/50\n",
      "46988/46988 [==============================] - 234s - loss: 0.1020 - f1: 0.7662 - val_loss: 0.1154 - val_f1: 0.7378\n",
      "Epoch 49/50\n",
      "46988/46988 [==============================] - 235s - loss: 0.1013 - f1: 0.7703 - val_loss: 0.1147 - val_f1: 0.7357\n",
      "Epoch 50/50\n",
      "46988/46988 [==============================] - 250s - loss: 0.1005 - f1: 0.7702 - val_loss: 0.1167 - val_f1: 0.7330\n"
     ]
    },
    {
     "data": {
      "image/png": "[encoded data removed]",
      "text/plain": [
       "<matplotlib.figure.Figure at 0x17b5d4fd0>"
      ]
     },
     "metadata": {},
     "output_type": "display_data"
    },
    {
     "data": {
      "image/png": "[encoded data removed]",
      "text/plain": [
       "<matplotlib.figure.Figure at 0x176296a58>"
      ]
     },
     "metadata": {},
     "output_type": "display_data"
    }
   ],
   "source": [
    "recurrent_net = run_model(RR_model, 50, 128)"
   ]
  },
  {
   "cell_type": "markdown",
   "metadata": {},
   "source": [
    "## Test the model:"
   ]
  },
  {
   "cell_type": "markdown",
   "metadata": {},
   "source": [
    "obtain the reduced vocab again:"
   ]
  },
  {
   "cell_type": "code",
   "execution_count": 75,
   "metadata": {},
   "outputs": [],
   "source": [
    "cleaned_vocab = get_vocab(cleaned_corpus)"
   ]
  },
  {
   "cell_type": "code",
   "execution_count": 90,
   "metadata": {},
   "outputs": [],
   "source": [
    "embedded_vocab, variance, pca = embed_vocab(cleaned_vocab, embedding, dimension, True)"
   ]
  },
  {
   "cell_type": "code",
   "execution_count": 103,
   "metadata": {
    "collapsed": true
   },
   "outputs": [],
   "source": [
    "def prep_new_comment(comment):\n",
    "    \n",
    "    comment_array = comment.split()\n",
    " \n",
    "    cleaned_comment = clean_comment(comment_array)\n",
    "\n",
    "    embedded_comment = [embedded_vocab[word] for word in cleaned_comment]\n",
    "\n",
    "    reshaped_comment = reshape_comment(embedded_comment, max_comment_length, dimension)\n",
    "    \n",
    "    return reshaped_comment"
   ]
  },
  {
   "cell_type": "code",
   "execution_count": 124,
   "metadata": {},
   "outputs": [],
   "source": [
    "def plot_predictions(probs, title):\n",
    "    \n",
    "    \n",
    "    probabilities = [ round(i) for i in probs[0]]\n",
    "    \n",
    "    #plot the figure:\n",
    "    fig = plt.figure(figsize=(12, 4))\n",
    "    \n",
    "    #declare the title\n",
    "    fig.suptitle(title)\n",
    "    plt.autoscale(enable=False, axis='y')\n",
    "    ind = np.arange(len(probabilities))\n",
    "    plt.bar(ind, probabilities, width = 0.85, color='g')\n",
    "    plt.xticks(ind, categories)\n",
    "    plt.show()\n",
    "    \n",
    "def predict(comment, model):\n",
    "    prepped_comment = prep_new_comment(comment)\n",
    "    \n",
    "    # add brackets to make Keras tensor\n",
    "    prepped_comment = np.array([prepped_comment])\n",
    "    \n",
    "    plot_predictions(model.predict(prepped_comment), comment)    "
   ]
  },
  {
   "cell_type": "code",
   "execution_count": 130,
   "metadata": {},
   "outputs": [
    {
     "data": {
      "image/png": "[encoded data removed]",
      "text/plain": [
       "<matplotlib.figure.Figure at 0x1802b5be0>"
      ]
     },
     "metadata": {},
     "output_type": "display_data"
    }
   ],
   "source": [
    "predict('You are a very nice person', matrix_model)"
   ]
  },
  {
   "cell_type": "code",
   "execution_count": 131,
   "metadata": {},
   "outputs": [
    {
     "data": {
      "image/png": "[encoded data removed]",
      "text/plain": [
       "<matplotlib.figure.Figure at 0x17f878240>"
      ]
     },
     "metadata": {},
     "output_type": "display_data"
    }
   ],
   "source": [
    "predict('shut the fuck up, motherfucker', matrix_model)"
   ]
  },
  {
   "cell_type": "code",
   "execution_count": null,
   "metadata": {
    "collapsed": true
   },
   "outputs": [],
   "source": []
  }
 ],
 "metadata": {
  "anaconda-cloud": {},
  "kernelspec": {
   "display_name": "Python 3",
   "language": "python",
   "name": "python3"
  },
  "language_info": {
   "codemirror_mode": {
    "name": "ipython",
    "version": 3
   },
   "file_extension": ".py",
   "mimetype": "text/x-python",
   "name": "python",
   "nbconvert_exporter": "python",
   "pygments_lexer": "ipython3",
   "version": "3.7.2"
  }
 },
 "nbformat": 4,
 "nbformat_minor": 2
}
